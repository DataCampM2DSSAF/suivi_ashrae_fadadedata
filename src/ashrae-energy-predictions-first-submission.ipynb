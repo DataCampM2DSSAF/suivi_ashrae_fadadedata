{
 "cells": [
  {
   "cell_type": "markdown",
   "metadata": {},
   "source": [
    "# Introduction\n",
    "\n",
    "First submission :\n",
    "\n",
    "<a href='#1'>1. Loading Data</a>\n",
    "\n",
    "<a href='#2'>2. Combining Datasets</a>\n",
    "\n",
    "<a href='#3'>3. Missing Values</a>\n",
    "\n",
    "<a href='#4'>4. Model Training</a>\n",
    "\n",
    "<a href='#5'>5. Model Predictions</a>"
   ]
  },
  {
   "cell_type": "markdown",
   "metadata": {},
   "source": [
    "# <a id='1'>1. Loading Data</a>"
   ]
  },
  {
   "cell_type": "code",
   "execution_count": null,
   "metadata": {},
   "outputs": [],
   "source": [
    "#import libraries\n",
    "import pandas as pd\n",
    "import numpy as np\n",
    "import sklearn as sk\n",
    "import missingno as msno \n",
    "import matplotlib.pyplot as plt\n",
    "import seaborn as sns\n",
    "import pickle"
   ]
  },
  {
   "cell_type": "code",
   "execution_count": null,
   "metadata": {},
   "outputs": [],
   "source": [
    "#load data\n",
    "train = pd.read_csv('/kaggle/input/ashrae-energy-prediction/train.csv')\n",
    "train['timestamp'] = pd.to_datetime(train['timestamp']) #the train dataset contains a 'timestamp' column we convert to a datetime object for ease of use\n",
    "test = pd.read_csv('/kaggle/input/ashrae-energy-prediction/test.csv')\n",
    "test['timestamp'] = pd.to_datetime(test['timestamp'])\n",
    "weather_train = pd.read_csv('/kaggle/input/ashrae-energy-prediction/weather_train.csv')\n",
    "weather_test = pd.read_csv('/kaggle/input/ashrae-energy-prediction/weather_test.csv')\n",
    "build_meta = pd.read_csv('/kaggle/input/ashrae-energy-prediction/building_metadata.csv')"
   ]
  },
  {
   "cell_type": "markdown",
   "metadata": {},
   "source": [
    "For a simple first model, we are going to merge the training sets to gather all covariables and make predictions on it with a linear regressor."
   ]
  },
  {
   "cell_type": "markdown",
   "metadata": {},
   "source": [
    "# <a id='2'>2. Combining Datasets</a>\n",
    "We will merge everything into train and test dataframes."
   ]
  },
  {
   "cell_type": "code",
   "execution_count": null,
   "metadata": {},
   "outputs": [],
   "source": [
    "weather_test.timestamp = pd.to_datetime(weather_test.timestamp) \n",
    "weather_train.timestamp = pd.to_datetime(weather_train.timestamp) "
   ]
  },
  {
   "cell_type": "code",
   "execution_count": null,
   "metadata": {},
   "outputs": [],
   "source": [
    "#merge the building meta data and weather data into the train data\n",
    "train_m = train.merge(build_meta, how='left', on = ['building_id'], validate='many_to_one') #merge the building meta data into the train data\n",
    "train_m = train_m.merge(weather_train, how='left', on = ['site_id', 'timestamp'], validate='many_to_one')#add weather data to each time entry for each site ID\n",
    "\n",
    "#merge the building meta data and weather data into the test data\n",
    "test_m = test.merge(build_meta, how='left', on = ['building_id'], validate='many_to_one') #merge the building meta data into the train data\n",
    "test_m = test_m.merge(weather_test, how='left', on = ['site_id', 'timestamp'], validate='many_to_one')#add weather data to each time entry for each site ID\n",
    "\n",
    "train_m.head()"
   ]
  },
  {
   "cell_type": "markdown",
   "metadata": {},
   "source": [
    "# <a id='3'>3. Missing Values</a>"
   ]
  },
  {
   "cell_type": "markdown",
   "metadata": {},
   "source": [
    "The linear regressor does not work with NA values. To make it simple to understand, we decided to use the simple imputer with the 'most frequent' method which replaces NA values with the modal value."
   ]
  },
  {
   "cell_type": "code",
   "execution_count": null,
   "metadata": {},
   "outputs": [],
   "source": [
    "train_m.dropna()"
   ]
  },
  {
   "cell_type": "code",
   "execution_count": null,
   "metadata": {},
   "outputs": [],
   "source": [
    "test_m.isna().describe()"
   ]
  },
  {
   "cell_type": "markdown",
   "metadata": {},
   "source": [
    "# <a id='7'>7. Model Training</a>"
   ]
  },
  {
   "cell_type": "markdown",
   "metadata": {},
   "source": [
    "Below we will tune the model parameters and get an idea of how well the model can perform on unseen data. We have done this by:\n",
    "\n",
    "* Holding out the last 2.5 months of data for validation\n",
    "* Holding out 10% of the buildings for validation\n",
    "* Cross-validating time-series wise (for parameter tuning)\n"
   ]
  },
  {
   "cell_type": "code",
   "execution_count": null,
   "metadata": {},
   "outputs": [],
   "source": [
    "%%time\n",
    "from sklearn.model_selection import train_test_split, GridSearchCV, TimeSeriesSplit\n",
    "from lightgbm import LGBMRegressor\n",
    "from sklearn.metrics import make_scorer, mean_squared_error, mean_absolute_error, mean_squared_log_error\n",
    "\n",
    "#defining a couple of functions for later use\n",
    "def clip(x):\n",
    "    return np.clip(x, a_min=0, a_max=None)\n",
    "def rmse(y, y_pred):\n",
    "    out = np.sqrt(mean_squared_error(clip(y), clip(y_pred)))\n",
    "    return out\n",
    "\n",
    "#prepare training data\n",
    "X = train_m.dropna(subset=['meter_reading']) #drop all rows where the meter reading is not included\n",
    "X = X.sort_values(by=['timestamp'], axis=0) #ensure X is sorted by timstamp for later timeseries cross-validation\n",
    "\n",
    "builds = X['building_id'].unique()#array of building ids in the dataset\n",
    "build_train, build_val = train_test_split(builds, test_size = 0.1, random_state=0)#hold out 10% of the buildings for validation\n",
    "\n",
    "train = X.loc[(X['timestamp']<'2016-10-15') \n",
    "          & (X['building_id'].isin(build_train))] #we will train on only the first 80% of the year and 90% buildings\n",
    "val_t = X.loc[(X['timestamp']>='2016-10-15') & (X['building_id'].isin(build_train))] #rest of the year and same buildings as above\n",
    "val_b = X.loc[(X['building_id'].isin(build_val))] #full year and the rest of the buildings\n",
    "\n",
    "y_train, y_val_t, y_val_b = train['meter_reading_rescaled'], val_t['meter_reading'], val_b['meter_reading'] #extracting the meter reading as our target variable\n",
    "X_train, X_val_t, X_val_b = train.drop(['meter_reading', 'meter_reading_rescaled', 'timestamp'], axis=1), val_t.drop(['meter_reading', 'meter_reading_rescaled','timestamp'], axis=1), val_b.drop(['meter_reading','meter_reading_rescaled','timestamp'], axis=1)\n",
    "\n",
    "del X, train, val_t, val_b #no longer needed - free up memory\n",
    "\n",
    "# lgbm model\n",
    "model = LGBMRegressor(\n",
    "num_leaves = 600,\n",
    "min_data_in_leaf = 50,\n",
    "random_state = 0\n",
    ")\n",
    "\n",
    "#cross-validation for paramter tuning\n",
    "# params = {\n",
    "#     'num_leaves': [600],#add values to these lists to run a parmaeter optimization. These were found to be optimum.\n",
    "#          }\n",
    "\n",
    "# #define a rmse scorer for gridsearchcv\n",
    "# rmse_scorer = make_scorer(rmse, greater_is_better=False)\n",
    "# #split training data time series-wise for cross-validation\n",
    "# tscv = TimeSeriesSplit(n_splits=3)\n",
    "# #grid search\n",
    "# #Note that the scores given are based on the rescaled meter readings, so are not a direct representation of model performance\n",
    "# for model_name, grid in params.items():\n",
    "#     searchCV = GridSearchCV(model, scoring=rmse_scorer, cv=tscv, param_grid=params)\n",
    "#     print('GridSearchCV fitting...')\n",
    "#     searchCV.fit(X_train, y_train)\n",
    "#     scores = -1*searchCV.cv_results_['mean_test_score']\n",
    "#     params = searchCV.cv_results_['params']\n",
    "#     for i in range(0, len(scores)):\n",
    "#       print(params[i], '->', scores[i])\n",
    "\n",
    "#Evaluate combined model on the ramining validation data\n",
    "print('Fitting...')\n",
    "model.fit(X_train, y_train)\n",
    "\n",
    "print('Time predictions...')\n",
    "preds = clip(model.predict(X_val_t)) #make time predictions\n",
    "preds_inv = scaler.inverse_transform(X_val_t, np.expm1(preds)) #convert back to original scale, remembering to invert the log transform\n",
    "y_val_t = y_val_t.sort_index()\n",
    "score = mean_absolute_error(preds_inv, y_val_t)\n",
    "print('Mean absolute error - time prediction:', score)\n",
    "RMSLE = np.sqrt(mean_squared_log_error(preds_inv, y_val_t))\n",
    "print('RMSLE - time prediction:', RMSLE)\n",
    "\n",
    "print('Building predictions...')\n",
    "preds = clip(model.predict(X_val_b))\n",
    "preds_inv = scaler.inverse_transform(X_val_b, np.expm1(preds))\n",
    "y_val_b = y_val_b.sort_index()\n",
    "score = mean_absolute_error(preds_inv, y_val_b)\n",
    "print('Mean absolute error - new buildings:', score)\n",
    "RMSLE = np.sqrt(mean_squared_log_error(preds_inv, y_val_b))\n",
    "print('RMSLE - new buildings:', RMSLE)"
   ]
  },
  {
   "cell_type": "markdown",
   "metadata": {},
   "source": [
    "Now that we have tuned the model parameters and have an idea of model performance. We will fit on the entire training dataset so we have as much information as possible for the final test set prediction."
   ]
  },
  {
   "cell_type": "code",
   "execution_count": null,
   "metadata": {},
   "outputs": [],
   "source": [
    "#prepare training data\n",
    "train = train_m.dropna(subset=['meter_reading']) #drop all rows where the meter reading is not included\n",
    "\n",
    "y_train = train['meter_reading_rescaled'] #extracting the meter reading as our target variable\n",
    "X_train = train.drop(['meter_reading', 'meter_reading_rescaled', 'timestamp'], axis=1)\n",
    "\n",
    "del train, train_m, X_val_t #no longer needed - free up memory\n",
    "gc.collect()\n",
    "\n",
    "#Fitting on all training data\n",
    "print('Final Fitting...')\n",
    "model.fit(X_train, y_train)"
   ]
  },
  {
   "cell_type": "markdown",
   "metadata": {},
   "source": [
    "# <a id='8'>8. Model Predictions</a>"
   ]
  },
  {
   "cell_type": "code",
   "execution_count": null,
   "metadata": {},
   "outputs": [],
   "source": [
    "#free up memory then load in the test data\n",
    "del X_train, y_train\n",
    "gc.collect()\n",
    "X_test = pickle.load( open( \"test_m.p\", \"rb\" ) )"
   ]
  },
  {
   "cell_type": "code",
   "execution_count": null,
   "metadata": {},
   "outputs": [],
   "source": [
    "#output the final predictions on the test data to a csv file\n",
    "preds = np.empty(len(X_test))#we will predict in three steps to save memory\n",
    "print('A')\n",
    "preds[:int(len(X_test)/3)] = model.predict(X_test.drop(['row_id', 'timestamp'], axis=1).iloc[:int(len(X_test)/3)])\n",
    "preds[int(len(X_test)/3):int(len(X_test)*2/3)] = model.predict(X_test.drop(['row_id', 'timestamp'], axis=1).iloc[int(len(X_test)/3):int(len(X_test)*2/3)])\n",
    "preds[int(len(X_test)*2/3):] = model.predict(X_test.drop(['row_id', 'timestamp'], axis=1).iloc[int(len(X_test)*2/3):])\n",
    "final_predictions = scaler.inverse_transform(X_test, np.expm1(preds))\n",
    "X_test = X_test.sort_index()\n",
    "output = pd.DataFrame({'row_id': X_test['row_id'], 'meter_reading': clip(final_predictions)})\n",
    "output['meter_reading'] = output['meter_reading'].round(decimals=4)#to save space\n",
    "output.to_csv('sub.csv', index_label = 'row_id', index=False)"
   ]
  },
  {
   "cell_type": "markdown",
   "metadata": {},
   "source": [
    "As a final check, we can plot the model predictions with the existing data for a specific building and meter type. Everything during 2016 is real data while the rest is our final predictions."
   ]
  },
  {
   "cell_type": "code",
   "execution_count": null,
   "metadata": {},
   "outputs": [],
   "source": [
    "b_id = 400 #building id\n",
    "m_id = 0 #meter id\n",
    "\n",
    "train_m = pickle.load( open('train_m.p', 'rb'))\n",
    "building_current = train_m.loc[(train_m['building_id']==b_id) & (train_m['meter']==m_id)]\n",
    "building_forecast = X_test.loc[(X_test['building_id']==b_id) & (X_test['meter']==m_id)].merge(output, how='left', on = ['row_id'], validate='one_to_one')\n",
    "building = pd.concat([building_current, building_forecast])\n",
    "\n",
    "X_o = building.drop(['meter_reading', 'row_id', 'timestamp', 'site_id'], axis=1)\n",
    "y_o = building['meter_reading']\n",
    "\n",
    "mod_plot = pd.DataFrame(data={#'meter_reading (predicted)':building_forecast['meter_reading'],\n",
    "                                    'meter_reading (actual and predicted)':y_o.values},\n",
    "                                    index=building['timestamp'])\n",
    "start_time = '2016-01-01'\n",
    "end_time = '2019-01-01'\n",
    "mod_plot = mod_plot.loc[(start_time<mod_plot.index)&(mod_plot.index<end_time)].resample('D').mean()\n",
    "mod_plot.plot(rot=45)#plot each model vs target"
   ]
  }
 ],
 "metadata": {
  "kernelspec": {
   "display_name": "Python 3",
   "language": "python",
   "name": "python3"
  },
  "language_info": {
   "codemirror_mode": {
    "name": "ipython",
    "version": 3
   },
   "file_extension": ".py",
   "mimetype": "text/x-python",
   "name": "python",
   "nbconvert_exporter": "python",
   "pygments_lexer": "ipython3",
   "version": "3.7.9"
  }
 },
 "nbformat": 4,
 "nbformat_minor": 4
}

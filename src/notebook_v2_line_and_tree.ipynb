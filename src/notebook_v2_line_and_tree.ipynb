{
 "cells": [
  {
   "cell_type": "markdown",
   "metadata": {},
   "source": [
    "# Introduction\n",
    "\n",
    "First submission :\n",
    "\n",
    "<a href='#1'>1. Loading Data</a>\n",
    "\n",
    "<a href='#2'>2. Combining Datasets</a>\n",
    "\n",
    "<a href='#3'>3. Memory Limitation</a>\n",
    "\n",
    "<a href='#4'>4. Missing Values</a>\n",
    "\n",
    "<a href='#5'>5.EDA</a>\n",
    "\n",
    "<a href='#6'>6. Model Training</a>\n",
    "\n",
    "<a href='#7'>7. Model Predictions and Kaggle Submission</a>"
   ]
  },
  {
   "cell_type": "markdown",
   "metadata": {},
   "source": [
    "# <a id='1'>1. Loading Data</a>"
   ]
  },
  {
   "cell_type": "code",
   "execution_count": 2,
   "metadata": {},
   "outputs": [],
   "source": [
    "#import libraries\n",
    "import pandas as pd\n",
    "import numpy as np\n",
    "import sklearn as sk\n",
    "import matplotlib.pyplot as plt\n",
    "import seaborn as sn\n",
    "import statistics\n",
    "import gc"
   ]
  },
  {
   "cell_type": "code",
   "execution_count": 3,
   "metadata": {},
   "outputs": [],
   "source": [
    "#load data\n",
    "train = pd.read_csv('kaggle/input/ashrae-energy-prediction/train.csv', memory_map=True)\n",
    "train['timestamp'] = pd.to_datetime(train['timestamp']) #the train dataset contains a 'timestamp' column we convert to a datetime object for ease of use\n",
    "test = pd.read_csv('kaggle/input/ashrae-energy-prediction/test.csv', memory_map=True)\n",
    "test['timestamp'] = pd.to_datetime(test['timestamp'])\n",
    "weather_train = pd.read_csv('kaggle/input/ashrae-energy-prediction/weather_train.csv', memory_map=True)\n",
    "weather_train['timestamp'] = pd.to_datetime(weather_train['timestamp']) \n",
    "weather_test = pd.read_csv('kaggle/input/ashrae-energy-prediction/weather_test.csv', memory_map=True)\n",
    "weather_test['timestamp'] = pd.to_datetime(weather_test['timestamp']) \n",
    "build_meta = pd.read_csv('kaggle/input/ashrae-energy-prediction/building_metadata.csv', memory_map=True)"
   ]
  },
  {
   "cell_type": "code",
   "execution_count": 4,
   "metadata": {},
   "outputs": [
    {
     "data": {
      "text/plain": [
       "(20216100, 41697600)"
      ]
     },
     "execution_count": 4,
     "metadata": {},
     "output_type": "execute_result"
    }
   ],
   "source": [
    "len(train), len(test)"
   ]
  },
  {
   "cell_type": "code",
   "execution_count": null,
   "metadata": {},
   "outputs": [],
   "source": [
    "train = train.sample(frac = 0.009)\n",
    "test = test.sample(frac = 0.009)"
   ]
  },
  {
   "cell_type": "markdown",
   "metadata": {},
   "source": [
    "For a simple first model, we are going to merge the training sets to gather all covariables and make predictions on it with a linear regressor."
   ]
  },
  {
   "cell_type": "markdown",
   "metadata": {},
   "source": [
    "# <a id='2'>2. Combining Datasets</a>\n",
    "We will merge everything into train and test dataframes."
   ]
  },
  {
   "cell_type": "markdown",
   "metadata": {},
   "source": [
    "We need to convert the timestamp to the right type:"
   ]
  },
  {
   "cell_type": "code",
   "execution_count": 5,
   "metadata": {},
   "outputs": [],
   "source": [
    "weather_test.timestamp = pd.to_datetime(weather_test.timestamp) \n",
    "weather_train.timestamp = pd.to_datetime(weather_train.timestamp) "
   ]
  },
  {
   "cell_type": "code",
   "execution_count": 6,
   "metadata": {},
   "outputs": [
    {
     "data": {
      "text/html": [
       "<div>\n",
       "<style scoped>\n",
       "    .dataframe tbody tr th:only-of-type {\n",
       "        vertical-align: middle;\n",
       "    }\n",
       "\n",
       "    .dataframe tbody tr th {\n",
       "        vertical-align: top;\n",
       "    }\n",
       "\n",
       "    .dataframe thead th {\n",
       "        text-align: right;\n",
       "    }\n",
       "</style>\n",
       "<table border=\"1\" class=\"dataframe\">\n",
       "  <thead>\n",
       "    <tr style=\"text-align: right;\">\n",
       "      <th></th>\n",
       "      <th>building_id</th>\n",
       "      <th>meter</th>\n",
       "      <th>timestamp</th>\n",
       "      <th>meter_reading</th>\n",
       "      <th>site_id</th>\n",
       "      <th>primary_use</th>\n",
       "      <th>square_feet</th>\n",
       "      <th>year_built</th>\n",
       "      <th>floor_count</th>\n",
       "      <th>air_temperature</th>\n",
       "      <th>cloud_coverage</th>\n",
       "      <th>dew_temperature</th>\n",
       "      <th>precip_depth_1_hr</th>\n",
       "      <th>sea_level_pressure</th>\n",
       "      <th>wind_direction</th>\n",
       "      <th>wind_speed</th>\n",
       "    </tr>\n",
       "  </thead>\n",
       "  <tbody>\n",
       "    <tr>\n",
       "      <th>0</th>\n",
       "      <td>0</td>\n",
       "      <td>0</td>\n",
       "      <td>2016-01-01</td>\n",
       "      <td>0.0</td>\n",
       "      <td>0</td>\n",
       "      <td>Education</td>\n",
       "      <td>7432</td>\n",
       "      <td>2008.0</td>\n",
       "      <td>NaN</td>\n",
       "      <td>25.0</td>\n",
       "      <td>6.0</td>\n",
       "      <td>20.0</td>\n",
       "      <td>NaN</td>\n",
       "      <td>1019.7</td>\n",
       "      <td>0.0</td>\n",
       "      <td>0.0</td>\n",
       "    </tr>\n",
       "    <tr>\n",
       "      <th>1</th>\n",
       "      <td>1</td>\n",
       "      <td>0</td>\n",
       "      <td>2016-01-01</td>\n",
       "      <td>0.0</td>\n",
       "      <td>0</td>\n",
       "      <td>Education</td>\n",
       "      <td>2720</td>\n",
       "      <td>2004.0</td>\n",
       "      <td>NaN</td>\n",
       "      <td>25.0</td>\n",
       "      <td>6.0</td>\n",
       "      <td>20.0</td>\n",
       "      <td>NaN</td>\n",
       "      <td>1019.7</td>\n",
       "      <td>0.0</td>\n",
       "      <td>0.0</td>\n",
       "    </tr>\n",
       "    <tr>\n",
       "      <th>2</th>\n",
       "      <td>2</td>\n",
       "      <td>0</td>\n",
       "      <td>2016-01-01</td>\n",
       "      <td>0.0</td>\n",
       "      <td>0</td>\n",
       "      <td>Education</td>\n",
       "      <td>5376</td>\n",
       "      <td>1991.0</td>\n",
       "      <td>NaN</td>\n",
       "      <td>25.0</td>\n",
       "      <td>6.0</td>\n",
       "      <td>20.0</td>\n",
       "      <td>NaN</td>\n",
       "      <td>1019.7</td>\n",
       "      <td>0.0</td>\n",
       "      <td>0.0</td>\n",
       "    </tr>\n",
       "    <tr>\n",
       "      <th>3</th>\n",
       "      <td>3</td>\n",
       "      <td>0</td>\n",
       "      <td>2016-01-01</td>\n",
       "      <td>0.0</td>\n",
       "      <td>0</td>\n",
       "      <td>Education</td>\n",
       "      <td>23685</td>\n",
       "      <td>2002.0</td>\n",
       "      <td>NaN</td>\n",
       "      <td>25.0</td>\n",
       "      <td>6.0</td>\n",
       "      <td>20.0</td>\n",
       "      <td>NaN</td>\n",
       "      <td>1019.7</td>\n",
       "      <td>0.0</td>\n",
       "      <td>0.0</td>\n",
       "    </tr>\n",
       "    <tr>\n",
       "      <th>4</th>\n",
       "      <td>4</td>\n",
       "      <td>0</td>\n",
       "      <td>2016-01-01</td>\n",
       "      <td>0.0</td>\n",
       "      <td>0</td>\n",
       "      <td>Education</td>\n",
       "      <td>116607</td>\n",
       "      <td>1975.0</td>\n",
       "      <td>NaN</td>\n",
       "      <td>25.0</td>\n",
       "      <td>6.0</td>\n",
       "      <td>20.0</td>\n",
       "      <td>NaN</td>\n",
       "      <td>1019.7</td>\n",
       "      <td>0.0</td>\n",
       "      <td>0.0</td>\n",
       "    </tr>\n",
       "  </tbody>\n",
       "</table>\n",
       "</div>"
      ],
      "text/plain": [
       "   building_id  meter  timestamp  meter_reading  site_id primary_use  \\\n",
       "0            0      0 2016-01-01            0.0        0   Education   \n",
       "1            1      0 2016-01-01            0.0        0   Education   \n",
       "2            2      0 2016-01-01            0.0        0   Education   \n",
       "3            3      0 2016-01-01            0.0        0   Education   \n",
       "4            4      0 2016-01-01            0.0        0   Education   \n",
       "\n",
       "   square_feet  year_built  floor_count  air_temperature  cloud_coverage  \\\n",
       "0         7432      2008.0          NaN             25.0             6.0   \n",
       "1         2720      2004.0          NaN             25.0             6.0   \n",
       "2         5376      1991.0          NaN             25.0             6.0   \n",
       "3        23685      2002.0          NaN             25.0             6.0   \n",
       "4       116607      1975.0          NaN             25.0             6.0   \n",
       "\n",
       "   dew_temperature  precip_depth_1_hr  sea_level_pressure  wind_direction  \\\n",
       "0             20.0                NaN              1019.7             0.0   \n",
       "1             20.0                NaN              1019.7             0.0   \n",
       "2             20.0                NaN              1019.7             0.0   \n",
       "3             20.0                NaN              1019.7             0.0   \n",
       "4             20.0                NaN              1019.7             0.0   \n",
       "\n",
       "   wind_speed  \n",
       "0         0.0  \n",
       "1         0.0  \n",
       "2         0.0  \n",
       "3         0.0  \n",
       "4         0.0  "
      ]
     },
     "execution_count": 6,
     "metadata": {},
     "output_type": "execute_result"
    }
   ],
   "source": [
    "#merge the building meta data and weather data into the train data\n",
    "train_m = train.merge(build_meta, how='left', on = ['building_id'], validate='many_to_one') #merge the building meta data into the train data\n",
    "test_m = test.merge(build_meta, how='left', on = ['building_id'], validate='many_to_one') #merge the building meta data into the train data\n",
    "train_m = train_m.merge(weather_train, how='left', on = ['site_id', 'timestamp'], validate='many_to_one')#add weather data to each time entry for each site ID\n",
    "test_m = test_m.merge(weather_test, how='left', on = ['site_id', 'timestamp'], validate='many_to_one')#add weather data to each time entry for each site ID\n",
    "del build_meta, weather_train, weather_test\n",
    "import gc\n",
    "gc.collect() #mandatory since we don't have unlimited space (16go and the databases are quite large)\n",
    "train_m.head()"
   ]
  },
  {
   "cell_type": "code",
   "execution_count": 7,
   "metadata": {},
   "outputs": [],
   "source": [
    "del train, test"
   ]
  },
  {
   "cell_type": "markdown",
   "metadata": {},
   "source": [
    "# <a id='3'>3. Memory Limitation</a>"
   ]
  },
  {
   "cell_type": "code",
   "execution_count": 8,
   "metadata": {},
   "outputs": [
    {
     "name": "stdout",
     "output_type": "stream",
     "text": [
      "Mem. usage decreased to 1041.10 Mb (60.3% reduction)\n",
      "Mem. usage decreased to 2147.36 Mb (60.3% reduction)\n"
     ]
    }
   ],
   "source": [
    "def reduce_mem_usage(df, verbose=True): #we need to drastically reduce memory usage to work with those data basis\n",
    "    numerics = ['int16', 'int32', 'int64', 'float16', 'float32', 'float64']\n",
    "    start_mem = df.memory_usage().sum() / 1024**2    \n",
    "    for col in df.columns:\n",
    "        col_type = df[col].dtypes\n",
    "        if col_type in numerics:\n",
    "            c_min = df[col].min()\n",
    "            c_max = df[col].max()\n",
    "            if str(col_type)[:3] == 'int':\n",
    "                if c_min > np.iinfo(np.int8).min and c_max < np.iinfo(np.int8).max:\n",
    "                    df[col] = df[col].astype(np.int8)\n",
    "                elif c_min > np.iinfo(np.int16).min and c_max < np.iinfo(np.int16).max:\n",
    "                    df[col] = df[col].astype(np.int16)\n",
    "                elif c_min > np.iinfo(np.int32).min and c_max < np.iinfo(np.int32).max:\n",
    "                    df[col] = df[col].astype(np.int32)\n",
    "                elif c_min > np.iinfo(np.int64).min and c_max < np.iinfo(np.int64).max:\n",
    "                    df[col] = df[col].astype(np.int64)  \n",
    "            else:\n",
    "                if c_min > np.finfo(np.float16).min and c_max < np.finfo(np.float16).max:\n",
    "                    df[col] = df[col].astype(np.float16)\n",
    "                elif c_min > np.finfo(np.float32).min and c_max < np.finfo(np.float32).max:\n",
    "                    df[col] = df[col].astype(np.float32)\n",
    "                else:\n",
    "                    df[col] = df[col].astype(np.float64)    \n",
    "    end_mem = df.memory_usage().sum() / 1024**2\n",
    "    if verbose: print('Mem. usage decreased to {:5.2f} Mb ({:.1f}% reduction)'.format(end_mem, 100 * (start_mem - end_mem) / start_mem))\n",
    "    return df\n",
    "\n",
    "train_m = reduce_mem_usage(train_m) #this code changes the variable formats so it takes less space\n",
    "test_m = reduce_mem_usage(test_m) #source for this code : https://www.kaggle.com/alexandersylvester/ashrae-energy-predictions-with-lightgbm"
   ]
  },
  {
   "cell_type": "markdown",
   "metadata": {},
   "source": [
    "# <a id='4'>4. Missing Values</a>"
   ]
  },
  {
   "cell_type": "markdown",
   "metadata": {},
   "source": [
    "/!\\ ne pas executer la partie 4, la partie 5 traite ce sujet de manière plus complète"
   ]
  },
  {
   "cell_type": "code",
   "execution_count": null,
   "metadata": {},
   "outputs": [],
   "source": [
    "train_m.isna().describe()"
   ]
  },
  {
   "cell_type": "code",
   "execution_count": null,
   "metadata": {},
   "outputs": [],
   "source": [
    "test_m.isna().describe()"
   ]
  },
  {
   "cell_type": "markdown",
   "metadata": {},
   "source": [
    "The easy way out in this scenario is to drop the columns containing any NA. Which we're going to do for the time being. We have no missing value for the target variable so we will not be dropping any training row"
   ]
  },
  {
   "cell_type": "code",
   "execution_count": null,
   "metadata": {
    "collapsed": true,
    "jupyter": {
     "outputs_hidden": true
    }
   },
   "outputs": [],
   "source": [
    "train_m = train_m.dropna(axis='columns')"
   ]
  },
  {
   "cell_type": "code",
   "execution_count": null,
   "metadata": {
    "collapsed": true,
    "jupyter": {
     "outputs_hidden": true
    }
   },
   "outputs": [],
   "source": [
    "gc.collect(generation=0)\n",
    "gc.collect(generation=1)\n",
    "gc.collect() #supposedly cleans the memory but not that efficient // we need a better way"
   ]
  },
  {
   "cell_type": "code",
   "execution_count": null,
   "metadata": {
    "collapsed": true,
    "jupyter": {
     "outputs_hidden": true
    }
   },
   "outputs": [],
   "source": [
    "test_m = test_m.dropna(axis='columns')"
   ]
  },
  {
   "cell_type": "code",
   "execution_count": null,
   "metadata": {
    "collapsed": true,
    "jupyter": {
     "outputs_hidden": true
    }
   },
   "outputs": [],
   "source": [
    "train_m.describe()"
   ]
  },
  {
   "cell_type": "code",
   "execution_count": null,
   "metadata": {
    "collapsed": true,
    "jupyter": {
     "outputs_hidden": true
    }
   },
   "outputs": [],
   "source": [
    "test_m.describe()"
   ]
  },
  {
   "cell_type": "code",
   "execution_count": null,
   "metadata": {
    "collapsed": true,
    "jupyter": {
     "outputs_hidden": true
    }
   },
   "outputs": [],
   "source": [
    "train_m.groupby(\"primary_use\").sum()"
   ]
  },
  {
   "cell_type": "code",
   "execution_count": null,
   "metadata": {
    "collapsed": true,
    "jupyter": {
     "outputs_hidden": true
    }
   },
   "outputs": [],
   "source": [
    "train_m.primary_use = train_m.primary_use.astype('category')\n",
    "test_m.primary_use = test_m.primary_use.astype('category')"
   ]
  },
  {
   "cell_type": "code",
   "execution_count": null,
   "metadata": {
    "collapsed": true,
    "jupyter": {
     "outputs_hidden": true
    }
   },
   "outputs": [],
   "source": [
    "# dr = test_m.primary_use\n",
    "# test_m = test_m.drop('primary_use',axis=1)"
   ]
  },
  {
   "cell_type": "code",
   "execution_count": null,
   "metadata": {
    "collapsed": true,
    "jupyter": {
     "outputs_hidden": true
    }
   },
   "outputs": [],
   "source": [
    "# dr2 = train_m.primary_use\n",
    "# train_m = train_m.drop('primary_use',axis=1)\n",
    "## train_m = train_m.drop('meter_reading',axis=1)"
   ]
  },
  {
   "cell_type": "code",
   "execution_count": null,
   "metadata": {
    "collapsed": true,
    "jupyter": {
     "outputs_hidden": true
    }
   },
   "outputs": [],
   "source": [
    "test_m.dtypes"
   ]
  },
  {
   "cell_type": "code",
   "execution_count": null,
   "metadata": {
    "collapsed": true,
    "jupyter": {
     "outputs_hidden": true
    }
   },
   "outputs": [],
   "source": [
    "train_m.dtypes"
   ]
  },
  {
   "cell_type": "code",
   "execution_count": null,
   "metadata": {
    "collapsed": true,
    "jupyter": {
     "outputs_hidden": true
    }
   },
   "outputs": [],
   "source": [
    "train_df = train_m\n",
    "test_df = test_m"
   ]
  },
  {
   "cell_type": "code",
   "execution_count": null,
   "metadata": {
    "collapsed": true,
    "jupyter": {
     "outputs_hidden": true
    }
   },
   "outputs": [],
   "source": []
  },
  {
   "cell_type": "code",
   "execution_count": null,
   "metadata": {
    "collapsed": true,
    "jupyter": {
     "outputs_hidden": true
    }
   },
   "outputs": [],
   "source": [
    "import math\n",
    "\n",
    "train_df['month_datetime'] = train_df['timestamp'].dt.month.astype(np.int8)\n",
    "train_df['weekofyear_datetime'] = train_df['timestamp'].dt.weekofyear.astype(np.int8)\n",
    "train_df['dayofyear_datetime'] = train_df['timestamp'].dt.dayofyear.astype(np.int16)\n",
    "    \n",
    "train_df['hour_datetime'] = train_df['timestamp'].dt.hour.astype(np.int8)  \n",
    "train_df['day_week'] = train_df['timestamp'].dt.dayofweek.astype(np.int8)\n",
    "train_df['day_month_datetime'] = train_df['timestamp'].dt.day.astype(np.int8)\n",
    "train_df['week_month_datetime'] = train_df['timestamp'].dt.day/7\n",
    "train_df['week_month_datetime'] = train_df['week_month_datetime'].apply(lambda x: math.ceil(x)).astype(np.int8)\n",
    "    \n",
    "# train_df['year_built'] = train_df['year_built']-1900\n",
    "train_df['square_feet'] = np.log(train_df['square_feet'])\n",
    "    \n",
    "test_df['month_datetime'] = test_df['timestamp'].dt.month.astype(np.int8)\n",
    "test_df['weekofyear_datetime'] = test_df['timestamp'].dt.weekofyear.astype(np.int8)\n",
    "test_df['dayofyear_datetime'] = test_df['timestamp'].dt.dayofyear.astype(np.int16)\n",
    "    \n",
    "test_df['hour_datetime'] = test_df['timestamp'].dt.hour.astype(np.int8)\n",
    "test_df['day_week'] = test_df['timestamp'].dt.dayofweek.astype(np.int8)\n",
    "test_df['day_month_datetime'] = test_df['timestamp'].dt.day.astype(np.int8)\n",
    "test_df['week_month_datetime'] = test_df['timestamp'].dt.day/7\n",
    "test_df['week_month_datetime'] = test_df['week_month_datetime'].apply(lambda x: math.ceil(x)).astype(np.int8)"
   ]
  },
  {
   "cell_type": "markdown",
   "metadata": {},
   "source": [
    "# <a id='5'>5. EDA</a>"
   ]
  },
  {
   "cell_type": "code",
   "execution_count": null,
   "metadata": {},
   "outputs": [],
   "source": [
    "mat_coorr=train_m.corr()\n",
    "sn.heatmap(mat_coorr)\n",
    "plt.show()"
   ]
  },
  {
   "cell_type": "markdown",
   "metadata": {},
   "source": [
    "Pas de corrélation particulière entre `meter_reading` et les autres variables. Il y a cependant quelques corrélations entre certaines variables comme `floor_count` et `square_feet` ou `air_temperature` et `dew_temperature`. nous les traiterons plus tard pour voir si ces corrélations ont une influence sur nos modèles. "
   ]
  },
  {
   "cell_type": "code",
   "execution_count": null,
   "metadata": {},
   "outputs": [],
   "source": [
    "gc.collect()"
   ]
  },
  {
   "cell_type": "code",
   "execution_count": null,
   "metadata": {},
   "outputs": [],
   "source": [
    "from bokeh.plotting import figure, show\n",
    "from bokeh.io import output_notebook"
   ]
  },
  {
   "cell_type": "code",
   "execution_count": null,
   "metadata": {},
   "outputs": [],
   "source": [
    "is_na=train_m.isnull().sum()*100/train_m.shape[0]\n",
    "is_na=is_na.sort_values()\n",
    "ind = np.arange(len(is_na))\n",
    "gc.collect()"
   ]
  },
  {
   "cell_type": "code",
   "execution_count": null,
   "metadata": {},
   "outputs": [],
   "source": [
    "from bokeh.models import HoverTool, Legend, LegendItem, Range1d, ColumnDataSource,  RangeTool,  Select, MultiSelect\n",
    "from bokeh.transform import linear_cmap\n",
    "from bokeh.palettes import RdYlGn11 as palette\n",
    "from bokeh.models import LinearAxis\n",
    "from bokeh.models import HoverTool, Legend, LegendItem, Range1d, ColumnDataSource,  RangeTool,  Select, MultiSelect\n",
    "\n",
    "p = figure(width = 600, height = 300)\n",
    "source = ColumnDataSource(data=dict(x=ind, y=is_na.values, xname = is_na.index.to_list()))\n",
    "gc.collect()"
   ]
  },
  {
   "cell_type": "code",
   "execution_count": null,
   "metadata": {},
   "outputs": [],
   "source": [
    "color_mapper = linear_cmap(palette=palette, low=0, high=100, field_name='y')\n",
    "\n",
    "hist1 = p.vbar(x='x', top = 'y' , width=1,  source=source, line_color=color_mapper, fill_color = color_mapper, name = \"Histogramme\",alpha=0.6)\n",
    "\n",
    "h = HoverTool( # code pour l'outil qui affiche les informations de la courbe en passant la souris dessus\n",
    "    tooltips=[\n",
    "        ('Variable', '@xname'),\n",
    "        ('Pourcentage de NA', '$y'),#pour obtenir le nom de la courbe sur laquelle se trouve le pointeur\n",
    "    ],\n",
    "    renderers = [hist1]#, j]\n",
    ")\n",
    "p.add_tools(h)\n",
    "\n",
    "\n",
    "show(p)\n",
    "gc.collect()"
   ]
  },
  {
   "cell_type": "code",
   "execution_count": null,
   "metadata": {},
   "outputs": [],
   "source": [
    "plt.bar(ind, is_na.values)\n",
    "plt.xticks(ind,is_na.index,rotation=90)\n",
    "plt.ylabel(\"Pourcentage de NA\")\n",
    "plt.show()\n",
    "gc.collect()"
   ]
  },
  {
   "cell_type": "markdown",
   "metadata": {},
   "source": [
    "Les labels `floor_count` et `year_built` sont ceux pour lesquels il y a le plus de NA. C'est dommage car ce sont des indexs qui intuitivement auront beaucoup d'influence sur l'energie consommée."
   ]
  },
  {
   "cell_type": "code",
   "execution_count": null,
   "metadata": {},
   "outputs": [],
   "source": [
    "train_m['hour_datetime'] = train_m['timestamp'].dt.hour.astype(np.int8)  \n",
    "train_m['day_week'] = train_m['timestamp'].dt.dayofweek.astype(np.int8)\n",
    "gc.collect()"
   ]
  },
  {
   "cell_type": "code",
   "execution_count": null,
   "metadata": {},
   "outputs": [],
   "source": [
    "p2 = figure(width = 600, height = 300)\n",
    "p3 = figure(width = 600, height = 300)#,x_axis_type = 'datetime')\n",
    "# source2 = ColumnDataSource(data=dict(x=ind, y=is_na.values, xname = is_na.index.to_list()))\n",
    "# p.line(df['Date'], df.vol.mul(df.vol), line_width = 3, name= 'données réelles', color = 'purple')\n",
    "# p2.line(train_m.hour_datetime, train_m.meter_reading, line_width = 2, color='black', name = 'Par heure')\n",
    "p2.line(train_m.groupby('hour_datetime').hour_datetime.mean(), train_m[['hour_datetime', 'meter_reading']].groupby('hour_datetime').meter_reading.mean(), line_width = 2, color='red', name = 'Meter reading par heure')\n",
    "\n",
    "legend_list = []\n",
    "for i in range(len(p2.renderers)):\n",
    "        leg_tmp = LegendItem(label=p2.renderers[i].name, renderers = [p2.renderers[i]])\n",
    "        legend_list.append(leg_tmp)\n",
    "legend = Legend(items=legend_list, location='top_right')\n",
    "p2.add_layout(legend)\n",
    "\n",
    "show(p2)\n",
    "\n",
    "p3.line(train_m.groupby('day_week').day_week.mean(), train_m[['day_week', 'meter_reading']].groupby('day_week').meter_reading.mean(), line_width = 2, color='red', name = 'Meter reading par jour')\n",
    "\n",
    "\n",
    "legend_list = []\n",
    "for i in range(len(p3.renderers)):\n",
    "        leg_tmp = LegendItem(label=p3.renderers[i].name, renderers = [p3.renderers[i]])\n",
    "        legend_list.append(leg_tmp)\n",
    "legend = Legend(items=legend_list, location='top_right')\n",
    "p3.add_layout(legend)\n",
    "\n",
    "\n",
    "\n",
    "\n",
    "show(p3)\n",
    "gc.collect()"
   ]
  },
  {
   "cell_type": "code",
   "execution_count": null,
   "metadata": {},
   "outputs": [],
   "source": [
    "fig, axes = plt.subplots(1, 1, figsize=(14, 6),dpi=100)\n",
    "train_m[['timestamp', 'meter_reading']].set_index('timestamp').resample('H').mean()['meter_reading'].plot(ax=axes, label='Par heure').set_ylabel('Meter reading');\n",
    "train_m[['timestamp', 'meter_reading']].set_index('timestamp').resample('D').mean()['meter_reading'].plot(ax=axes, label='Par jour').set_ylabel('Meter reading');\n",
    "axes.set_title('Metre relevé moyen par jour et par heure');\n",
    "axes.legend();\n",
    "plt.show()\n",
    "gc.collect()"
   ]
  },
  {
   "cell_type": "markdown",
   "metadata": {},
   "source": [
    "La forme de la distribution de la valeur cible dans le temps est plutôt étrange. On observe des pics irréguliers. Regardons de plus près."
   ]
  },
  {
   "cell_type": "code",
   "execution_count": null,
   "metadata": {},
   "outputs": [],
   "source": [
    "import warnings\n",
    "warnings.filterwarnings(\"ignore\")"
   ]
  },
  {
   "cell_type": "code",
   "execution_count": null,
   "metadata": {},
   "outputs": [],
   "source": [
    "fig, axes = plt.subplots(8,2,figsize=(14, 30), dpi=100)\n",
    "list_pu=list(train_m['primary_use'].value_counts().index);\n",
    "for i in range(len(list_pu)):\n",
    "    train_m[train_m['primary_use'] == list_pu[i]][['timestamp', 'meter_reading']].set_index('timestamp').resample('H').mean()['meter_reading'].plot(ax=axes[i%8][i//8], label='Par heure').set_ylabel('Metre relevé moyen');\n",
    "    train_m[train_m['primary_use'] == list_pu[i]][['timestamp', 'meter_reading']].set_index('timestamp').resample('D').mean()['meter_reading'].plot(ax=axes[i%8][i//8],  label='Par jour').set_xlabel('');\n",
    "    axes[i%8][i//8].legend();\n",
    "    axes[i%8][i//8].set_title(list_pu[i]);\n",
    "    plt.subplots_adjust(hspace=0.45)\n",
    "plt.show()\n",
    "gc.collect()"
   ]
  },
  {
   "cell_type": "markdown",
   "metadata": {},
   "source": [
    "Notre problème se situe dans Education."
   ]
  },
  {
   "cell_type": "code",
   "execution_count": null,
   "metadata": {},
   "outputs": [],
   "source": [
    "fig, axes = plt.subplots(8,2,figsize=(14, 30), dpi=100)\n",
    "list_sid=list(train_m['site_id'].value_counts().index);\n",
    "train_hist=train_m[train_m['primary_use'] == 'Education']\n",
    "for i in range(len(list_sid)):\n",
    "    try :\n",
    "        train_hist[train_hist['site_id'] == i][['timestamp', 'meter_reading']].set_index('timestamp').resample('H').mean()['meter_reading'].plot(ax=axes[i%8][i//8], label='Par heure').set_ylabel('Metre relevé moyen');\n",
    "        train_hist[train_hist['site_id'] == i][['timestamp', 'meter_reading']].set_index('timestamp').resample('D').mean()['meter_reading'].plot(ax=axes[i%8][i//8],  label='Par jour').set_xlabel('');\n",
    "        axes[i%8][i//8].legend();\n",
    "    except :\n",
    "        pass\n",
    "    axes[i%8][i//8].set_title(i);\n",
    "    plt.subplots_adjust(hspace=0.45)\n",
    "plt.show()\n",
    "del train_hist;\n",
    "gc.collect()"
   ]
  },
  {
   "cell_type": "markdown",
   "metadata": {},
   "source": [
    "Notre problème se situe dans le 13."
   ]
  },
  {
   "cell_type": "code",
   "execution_count": null,
   "metadata": {},
   "outputs": [],
   "source": [
    "fig, axes = plt.subplots(3,1,figsize=(14, 18), dpi=100)\n",
    "train_hist=train_m[train_m['primary_use'] == 'Education']\n",
    "train_hist2=train_hist[train_hist['site_id'] == 13]\n",
    "list_met=list(train_hist2['meter'].value_counts().index);\n",
    "for i in range(len(list_met)):\n",
    "    try :\n",
    "        train_hist2[train_hist2['meter'] == list_met[i]][['timestamp', 'meter_reading']].set_index('timestamp').resample('H').mean()['meter_reading'].plot(ax=axes[i], label='Par heure').set_ylabel('Metre relevé moyen');\n",
    "        train_hist2[train_hist2['meter'] == list_met[i]][['timestamp', 'meter_reading']].set_index('timestamp').resample('D').mean()['meter_reading'].plot(ax=axes[i],  label='Par jour').set_xlabel('');\n",
    "        axes[i].legend();\n",
    "    except TypeError:\n",
    "        pass\n",
    "    axes[i].set_title(list_met[i]);\n",
    "    plt.subplots_adjust(hspace=0.45)\n",
    "plt.show()\n",
    "del train_hist;\n",
    "del train_hist2;\n",
    "gc.collect()"
   ]
  },
  {
   "cell_type": "markdown",
   "metadata": {},
   "source": [
    "Le problème se situe dans le metre de type 2."
   ]
  },
  {
   "cell_type": "code",
   "execution_count": null,
   "metadata": {},
   "outputs": [],
   "source": [
    "fig, axes = plt.subplots(9,2,figsize=(14, 36), dpi=100)\n",
    "train_hist=train_m[train_m['primary_use'] == 'Education']\n",
    "train_hist2=train_hist[train_hist['site_id'] == 13]\n",
    "train_hist3=train_hist2[train_hist2['meter']==2]\n",
    "list_build=list(train_hist3['building_id'].value_counts().index);\n",
    "for i in range(len(list_build)):\n",
    "    try :\n",
    "        train_hist3[train_hist3['building_id'] == list_build[i]][['timestamp', 'meter_reading']].set_index('timestamp').resample('H').mean()['meter_reading'].plot(ax=axes[i%9][i//9], label='Par heure').set_ylabel('Metre relevé moyen');\n",
    "        train_hist3[train_hist3['building_id'] == list_build[i]][['timestamp', 'meter_reading']].set_index('timestamp').resample('D').mean()['meter_reading'].plot(ax=axes[i%9][i//9],  label='Par jour').set_xlabel('');\n",
    "        axes[i%9][i//9].legend();\n",
    "    except TypeError:\n",
    "        pass\n",
    "    axes[i%9][i//9].set_title(list_build[i]);\n",
    "    plt.subplots_adjust(hspace=0.45)\n",
    "plt.show()\n",
    "del train_hist;\n",
    "del train_hist2;\n",
    "del train_hist3;\n",
    "gc.collect()"
   ]
  },
  {
   "cell_type": "code",
   "execution_count": null,
   "metadata": {},
   "outputs": [],
   "source": [
    "fig, axes = plt.subplots(1, 1, figsize=(14, 6),dpi=100)\n",
    "train_m[['timestamp', 'meter_reading']].set_index('timestamp').resample('H').mean()['meter_reading'].plot(ax=axes, label='Par heure').set_ylabel('Meter reading');\n",
    "train_m[['timestamp', 'meter_reading']].set_index('timestamp').resample('D').mean()['meter_reading'].plot(ax=axes, label='Par jour').set_ylabel('Meter reading');\n",
    "axes.set_title('Metre relevé moyen par jour et par heure');\n",
    "axes.legend();\n",
    "plt.show()\n",
    "gc.collect()"
   ]
  },
  {
   "cell_type": "code",
   "execution_count": null,
   "metadata": {},
   "outputs": [],
   "source": [
    "fig, axes = plt.subplots(1, 1, figsize=(14, 6),dpi=100)\n",
    "new_train=train_m[train_m['building_id'] != 1099]\n",
    "new_train[['timestamp', 'meter_reading']].set_index('timestamp').resample('H').mean()['meter_reading'].plot(ax=axes, label='Par heure').set_ylabel('Meter reading');\n",
    "new_train[['timestamp', 'meter_reading']].set_index('timestamp').resample('D').mean()['meter_reading'].plot(ax=axes, label='Par jour').set_ylabel('Meter reading');\n",
    "axes.set_title('Metre relevé moyen par jour et par heure');\n",
    "axes.legend();\n",
    "plt.show()\n",
    "gc.collect()"
   ]
  },
  {
   "cell_type": "code",
   "execution_count": null,
   "metadata": {},
   "outputs": [],
   "source": [
    "new_test=test_m\n",
    "new_test\n",
    "gc.collect()"
   ]
  },
  {
   "cell_type": "code",
   "execution_count": null,
   "metadata": {},
   "outputs": [],
   "source": [
    "del train_m\n",
    "del test_m"
   ]
  },
  {
   "cell_type": "markdown",
   "metadata": {},
   "source": [
    "Remplacement NA"
   ]
  },
  {
   "cell_type": "code",
   "execution_count": 9,
   "metadata": {},
   "outputs": [
    {
     "data": {
      "text/plain": [
       "30"
      ]
     },
     "execution_count": 9,
     "metadata": {},
     "output_type": "execute_result"
    }
   ],
   "source": [
    "list_pu=list(train_m['primary_use'].value_counts().index);\n",
    "#new_train=train_m[train_m['building_id'] != 1099]\n",
    "new_train=train_m\n",
    "new_test=test_m\n",
    "del train_m\n",
    "del test_m\n",
    "new_train = new_train.query('not (building_id <= 104 & meter == 0 & timestamp <= \"2016-05-20\")')\n",
    "gc.collect()"
   ]
  },
  {
   "cell_type": "code",
   "execution_count": 10,
   "metadata": {},
   "outputs": [
    {
     "name": "stdout",
     "output_type": "stream",
     "text": [
      "Education\n",
      "building_id            0.000000\n",
      "meter                  0.000000\n",
      "timestamp              0.000000\n",
      "meter_reading          0.000000\n",
      "site_id                0.000000\n",
      "primary_use            0.000000\n",
      "square_feet            0.000000\n",
      "year_built            50.992359\n",
      "floor_count           76.311594\n",
      "air_temperature        0.536784\n",
      "cloud_coverage        45.082600\n",
      "dew_temperature        0.565242\n",
      "precip_depth_1_hr     24.570677\n",
      "sea_level_pressure     7.551545\n",
      "wind_direction         8.627742\n",
      "wind_speed             0.825937\n",
      "dtype: float64\n",
      "\n",
      "Office\n",
      "building_id            0.000000\n",
      "meter                  0.000000\n",
      "timestamp              0.000000\n",
      "meter_reading          0.000000\n",
      "site_id                0.000000\n",
      "primary_use            0.000000\n",
      "square_feet            0.000000\n",
      "year_built            76.891130\n",
      "floor_count           91.739223\n",
      "air_temperature        0.382801\n",
      "cloud_coverage        43.312930\n",
      "dew_temperature        0.388964\n",
      "precip_depth_1_hr     14.418745\n",
      "sea_level_pressure     4.293337\n",
      "wind_direction         5.483583\n",
      "wind_speed             0.561111\n",
      "dtype: float64\n",
      "\n",
      "Entertainment/public assembly\n",
      "building_id            0.000000\n",
      "meter                  0.000000\n",
      "timestamp              0.000000\n",
      "meter_reading          0.000000\n",
      "site_id                0.000000\n",
      "primary_use            0.000000\n",
      "square_feet            0.000000\n",
      "year_built            63.314113\n",
      "floor_count           79.153628\n",
      "air_temperature        0.480754\n",
      "cloud_coverage        41.905676\n",
      "dew_temperature        0.493876\n",
      "precip_depth_1_hr     17.153581\n",
      "sea_level_pressure     9.361485\n",
      "wind_direction         8.346911\n",
      "wind_speed             0.747953\n",
      "dtype: float64\n",
      "\n",
      "Lodging/residential\n",
      "building_id            0.000000\n",
      "meter                  0.000000\n",
      "timestamp              0.000000\n",
      "meter_reading          0.000000\n",
      "site_id                0.000000\n",
      "primary_use            0.000000\n",
      "square_feet            0.000000\n",
      "year_built            52.443539\n",
      "floor_count           92.576518\n",
      "air_temperature        0.781693\n",
      "cloud_coverage        42.236531\n",
      "dew_temperature        0.795363\n",
      "precip_depth_1_hr     20.218654\n",
      "sea_level_pressure     3.565268\n",
      "wind_direction         9.563373\n",
      "wind_speed             1.115794\n",
      "dtype: float64\n",
      "\n",
      "Public services\n",
      "building_id            0.000000\n",
      "meter                  0.000000\n",
      "timestamp              0.000000\n",
      "meter_reading          0.000000\n",
      "site_id                0.000000\n",
      "primary_use            0.000000\n",
      "square_feet            0.000000\n",
      "year_built            69.843568\n",
      "floor_count           78.492759\n",
      "air_temperature        0.270563\n",
      "cloud_coverage        43.057782\n",
      "dew_temperature        0.284095\n",
      "precip_depth_1_hr     10.105808\n",
      "sea_level_pressure     4.535832\n",
      "wind_direction         3.616253\n",
      "wind_speed             0.349285\n",
      "dtype: float64\n",
      "\n",
      "Healthcare\n",
      "building_id            0.000000\n",
      "meter                  0.000000\n",
      "timestamp              0.000000\n",
      "meter_reading          0.000000\n",
      "site_id                0.000000\n",
      "primary_use            0.000000\n",
      "square_feet            0.000000\n",
      "year_built            80.553388\n",
      "floor_count           97.795883\n",
      "air_temperature        0.150303\n",
      "cloud_coverage        40.959835\n",
      "dew_temperature        0.154067\n",
      "precip_depth_1_hr      4.084792\n",
      "sea_level_pressure     3.718192\n",
      "wind_direction         3.204049\n",
      "wind_speed             0.304622\n",
      "dtype: float64\n",
      "\n",
      "Other\n",
      "building_id            0.000000\n",
      "meter                  0.000000\n",
      "timestamp              0.000000\n",
      "meter_reading          0.000000\n",
      "site_id                0.000000\n",
      "primary_use            0.000000\n",
      "square_feet            0.000000\n",
      "year_built            81.904871\n",
      "floor_count           45.175441\n",
      "air_temperature        0.099635\n",
      "cloud_coverage        41.982286\n",
      "dew_temperature        0.109774\n",
      "precip_depth_1_hr      4.035639\n",
      "sea_level_pressure     5.075189\n",
      "wind_direction         3.339079\n",
      "wind_speed             0.261430\n",
      "dtype: float64\n",
      "\n",
      "Parking\n",
      "building_id            0.000000\n",
      "meter                  0.000000\n",
      "timestamp              0.000000\n",
      "meter_reading          0.000000\n",
      "site_id                0.000000\n",
      "primary_use            0.000000\n",
      "square_feet            0.000000\n",
      "year_built            51.677831\n",
      "floor_count           88.984420\n",
      "air_temperature        0.019261\n",
      "cloud_coverage        43.672288\n",
      "dew_temperature        0.023006\n",
      "precip_depth_1_hr      1.843153\n",
      "sea_level_pressure     1.021358\n",
      "wind_direction         3.078520\n",
      "wind_speed             0.025681\n",
      "dtype: float64\n",
      "\n",
      "Manufacturing/industrial\n",
      "building_id            0.000000\n",
      "meter                  0.000000\n",
      "timestamp              0.000000\n",
      "meter_reading          0.000000\n",
      "site_id                0.000000\n",
      "primary_use            0.000000\n",
      "square_feet            0.000000\n",
      "year_built            55.898754\n",
      "floor_count           79.037967\n",
      "air_temperature        1.009442\n",
      "cloud_coverage        53.773277\n",
      "dew_temperature        1.018988\n",
      "precip_depth_1_hr     40.101660\n",
      "sea_level_pressure    24.162974\n",
      "wind_direction         3.722765\n",
      "wind_speed             1.088193\n",
      "dtype: float64\n",
      "\n",
      "Food sales and service\n",
      "building_id             0.000000\n",
      "meter                   0.000000\n",
      "timestamp               0.000000\n",
      "meter_reading           0.000000\n",
      "site_id                 0.000000\n",
      "primary_use             0.000000\n",
      "square_feet             0.000000\n",
      "year_built             76.910334\n",
      "floor_count           100.000000\n",
      "air_temperature         0.054343\n",
      "cloud_coverage         35.287054\n",
      "dew_temperature         0.054343\n",
      "precip_depth_1_hr       0.516259\n",
      "sea_level_pressure      1.023753\n",
      "wind_direction          4.537646\n",
      "wind_speed              0.187571\n",
      "dtype: float64\n",
      "\n",
      "Retail\n",
      "building_id            0.000000\n",
      "meter                  0.000000\n",
      "timestamp              0.000000\n",
      "meter_reading          0.000000\n",
      "site_id                0.000000\n",
      "primary_use            0.000000\n",
      "square_feet            0.000000\n",
      "year_built            37.984907\n",
      "floor_count           81.005925\n",
      "air_temperature        0.107036\n",
      "cloud_coverage        27.380746\n",
      "dew_temperature        0.109199\n",
      "precip_depth_1_hr     28.679237\n",
      "sea_level_pressure     0.801150\n",
      "wind_direction         2.933227\n",
      "wind_speed             0.115686\n",
      "dtype: float64\n",
      "\n",
      "Warehouse/storage\n",
      "building_id            0.000000\n",
      "meter                  0.000000\n",
      "timestamp              0.000000\n",
      "meter_reading          0.000000\n",
      "site_id                0.000000\n",
      "primary_use            0.000000\n",
      "square_feet            0.000000\n",
      "year_built            61.506691\n",
      "floor_count           85.583894\n",
      "air_temperature        0.046486\n",
      "cloud_coverage        41.848365\n",
      "dew_temperature        0.054532\n",
      "precip_depth_1_hr      0.326298\n",
      "sea_level_pressure     1.361511\n",
      "wind_direction         2.909861\n",
      "wind_speed             0.048274\n",
      "dtype: float64\n",
      "\n",
      "Services\n",
      "building_id             0.000000\n",
      "meter                   0.000000\n",
      "timestamp               0.000000\n",
      "meter_reading           0.000000\n",
      "site_id                 0.000000\n",
      "primary_use             0.000000\n",
      "square_feet             0.000000\n",
      "year_built            100.000000\n",
      "floor_count           100.000000\n",
      "air_temperature         0.059056\n",
      "cloud_coverage         44.625411\n",
      "dew_temperature         0.069416\n",
      "precip_depth_1_hr       0.137797\n",
      "sea_level_pressure      2.011003\n",
      "wind_direction         14.609559\n",
      "wind_speed              0.535646\n",
      "dtype: float64\n",
      "\n",
      "Technology/science\n",
      "building_id            0.000000\n",
      "meter                  0.000000\n",
      "timestamp              0.000000\n",
      "meter_reading          0.000000\n",
      "site_id                0.000000\n",
      "primary_use            0.000000\n",
      "square_feet            0.000000\n",
      "year_built            48.703415\n",
      "floor_count           51.321061\n",
      "air_temperature        1.240548\n",
      "cloud_coverage        39.197702\n",
      "dew_temperature        1.265024\n",
      "precip_depth_1_hr     38.341041\n",
      "sea_level_pressure     3.898128\n",
      "wind_direction         4.016644\n",
      "wind_speed             1.552295\n",
      "dtype: float64\n",
      "\n",
      "Utility\n",
      "building_id            0.000000\n",
      "meter                  0.000000\n",
      "timestamp              0.000000\n",
      "meter_reading          0.000000\n",
      "site_id                0.000000\n",
      "primary_use            0.000000\n",
      "square_feet            0.000000\n",
      "year_built            31.254559\n",
      "floor_count           84.431436\n",
      "air_temperature        2.115545\n",
      "cloud_coverage        43.291283\n",
      "dew_temperature        2.140455\n",
      "precip_depth_1_hr     46.285785\n",
      "sea_level_pressure     5.857339\n",
      "wind_direction         5.868014\n",
      "wind_speed             2.307706\n",
      "dtype: float64\n",
      "\n",
      "Religious worship\n",
      "building_id             0.000000\n",
      "meter                   0.000000\n",
      "timestamp               0.000000\n",
      "meter_reading           0.000000\n",
      "site_id                 0.000000\n",
      "primary_use             0.000000\n",
      "square_feet             0.000000\n",
      "year_built             45.727882\n",
      "floor_count           100.000000\n",
      "air_temperature         1.826272\n",
      "cloud_coverage         42.347270\n",
      "dew_temperature         1.850993\n",
      "precip_depth_1_hr      37.807855\n",
      "sea_level_pressure      5.441735\n",
      "wind_direction          5.367572\n",
      "wind_speed              1.990050\n",
      "dtype: float64\n",
      "\n"
     ]
    }
   ],
   "source": [
    "for i in list_pu:\n",
    "    print(i)\n",
    "    print(new_train[new_train['primary_use']==i].isnull().sum()*100/new_train[new_train['primary_use']==i].shape[0])\n",
    "    print(\"\")"
   ]
  },
  {
   "cell_type": "markdown",
   "metadata": {},
   "source": [
    "`Services`, `Food sales and service`, `Religious worship` n'ont aucune donnée pour la variable `floor_count`. Nous allons d'abord combler ce qu'il manque dans les autres catégories par la moyenne. "
   ]
  },
  {
   "cell_type": "code",
   "execution_count": 11,
   "metadata": {
    "collapsed": true,
    "jupyter": {
     "outputs_hidden": true
    }
   },
   "outputs": [
    {
     "data": {
      "text/plain": [
       "building_id            0.000000\n",
       "meter                  0.000000\n",
       "timestamp              0.000000\n",
       "meter_reading          0.000000\n",
       "site_id                0.000000\n",
       "primary_use            0.000000\n",
       "square_feet            0.000000\n",
       "year_built            61.035302\n",
       "floor_count           82.350513\n",
       "air_temperature        0.484900\n",
       "cloud_coverage        43.606908\n",
       "dew_temperature        0.502424\n",
       "precip_depth_1_hr     18.867345\n",
       "sea_level_pressure     6.169160\n",
       "wind_direction         7.253766\n",
       "wind_speed             0.723084\n",
       "dtype: float64"
      ]
     },
     "execution_count": 11,
     "metadata": {},
     "output_type": "execute_result"
    }
   ],
   "source": [
    "new_train.isnull().sum()*100/new_train.shape[0]"
   ]
  },
  {
   "cell_type": "code",
   "execution_count": 12,
   "metadata": {
    "collapsed": true,
    "jupyter": {
     "outputs_hidden": true
    }
   },
   "outputs": [
    {
     "data": {
      "text/plain": [
       "row_id                 0.000000\n",
       "building_id            0.000000\n",
       "meter                  0.000000\n",
       "timestamp              0.000000\n",
       "site_id                0.000000\n",
       "primary_use            0.000000\n",
       "square_feet            0.000000\n",
       "year_built            58.991597\n",
       "floor_count           82.605042\n",
       "air_temperature        0.532167\n",
       "cloud_coverage        46.866438\n",
       "dew_temperature        0.625453\n",
       "precip_depth_1_hr     18.709861\n",
       "sea_level_pressure     6.035901\n",
       "wind_direction         7.143488\n",
       "wind_speed             0.724476\n",
       "dtype: float64"
      ]
     },
     "execution_count": 12,
     "metadata": {},
     "output_type": "execute_result"
    }
   ],
   "source": [
    "new_test.isnull().sum()*100/new_test.shape[0]"
   ]
  },
  {
   "cell_type": "code",
   "execution_count": 13,
   "metadata": {},
   "outputs": [
    {
     "data": {
      "text/plain": [
       "117"
      ]
     },
     "execution_count": 13,
     "metadata": {},
     "output_type": "execute_result"
    }
   ],
   "source": [
    "import statistics\n",
    "list_pu_mean=[]\n",
    "list_pu_mean_test=[]\n",
    "for i in list_pu:\n",
    "    temp=new_train[new_train['primary_use']==i]['floor_count'].dropna()\n",
    "    if (len(temp)>0):\n",
    "        list_pu_mean.append(statistics.mean(temp))\n",
    "    else :\n",
    "        list_pu_mean.append(0)\n",
    "        \n",
    "for i in list_pu:\n",
    "    temp=new_test[new_test['primary_use']==i]['floor_count'].dropna()\n",
    "    if (len(temp)>0):\n",
    "        list_pu_mean_test.append(statistics.mean(temp))\n",
    "    else :\n",
    "        list_pu_mean_test.append(0)        \n",
    "gc.collect()"
   ]
  },
  {
   "cell_type": "code",
   "execution_count": 14,
   "metadata": {},
   "outputs": [
    {
     "data": {
      "text/plain": [
       "0"
      ]
     },
     "execution_count": 14,
     "metadata": {},
     "output_type": "execute_result"
    }
   ],
   "source": [
    "for i in range(len(list_pu)):\n",
    "    if (list_pu[i]!=\"Services\") & (list_pu[i]!=\"Food sales and service\") & (list_pu[i]!=\"Religious worship\") :\n",
    "        new_train.loc[new_train.primary_use==list_pu[i],['floor_count']]=new_train[new_train['primary_use']==list_pu[i]]['floor_count'].fillna(list_pu_mean[i])\n",
    "        new_test.loc[new_test.primary_use==list_pu[i],['floor_count']]=new_test[new_test['primary_use']==list_pu[i]]['floor_count'].fillna(list_pu_mean_test[i])\n",
    "new_train\n",
    "gc.collect()"
   ]
  },
  {
   "cell_type": "code",
   "execution_count": 15,
   "metadata": {},
   "outputs": [],
   "source": [
    "list_sid=list(new_train['site_id'].value_counts().index);"
   ]
  },
  {
   "cell_type": "code",
   "execution_count": 16,
   "metadata": {},
   "outputs": [
    {
     "data": {
      "text/plain": [
       "0"
      ]
     },
     "execution_count": 16,
     "metadata": {},
     "output_type": "execute_result"
    }
   ],
   "source": [
    "list_sid_mean=[]\n",
    "list_sid_mean_test=[]\n",
    "for i in list_sid:\n",
    "    temp=new_train[new_train['site_id']==i]['floor_count'].dropna()\n",
    "    if (len(temp)>0):\n",
    "        list_sid_mean.append(statistics.mean(temp))\n",
    "    else :\n",
    "        list_sid_mean.append(0)\n",
    "        \n",
    "for i in list_sid:\n",
    "    temp=new_test[new_test['site_id']==i]['floor_count'].dropna()\n",
    "    if (len(temp)>0):\n",
    "        list_sid_mean_test.append(statistics.mean(temp))\n",
    "    else :\n",
    "        list_sid_mean_test.append(0)\n",
    "gc.collect()"
   ]
  },
  {
   "cell_type": "code",
   "execution_count": 17,
   "metadata": {},
   "outputs": [
    {
     "data": {
      "text/plain": [
       "0"
      ]
     },
     "execution_count": 17,
     "metadata": {},
     "output_type": "execute_result"
    }
   ],
   "source": [
    "for i in range(len(list_sid)):\n",
    "    new_train.loc[new_train.site_id==list_sid[i],['floor_count']]=new_train[new_train['site_id']==list_sid[i]]['floor_count'].fillna(list_sid_mean[i])\n",
    "    new_test.loc[new_test.site_id==list_sid[i],['floor_count']]=new_test[new_test['site_id']==list_sid[i]]['floor_count'].fillna(list_sid_mean_test[i])\n",
    "new_train\n",
    "gc.collect()"
   ]
  },
  {
   "cell_type": "code",
   "execution_count": 18,
   "metadata": {
    "collapsed": true,
    "jupyter": {
     "outputs_hidden": true
    }
   },
   "outputs": [
    {
     "data": {
      "text/plain": [
       "building_id            0.000000\n",
       "meter                  0.000000\n",
       "timestamp              0.000000\n",
       "meter_reading          0.000000\n",
       "site_id                0.000000\n",
       "primary_use            0.000000\n",
       "square_feet            0.000000\n",
       "year_built            61.035302\n",
       "floor_count            0.000000\n",
       "air_temperature        0.484900\n",
       "cloud_coverage        43.606908\n",
       "dew_temperature        0.502424\n",
       "precip_depth_1_hr     18.867345\n",
       "sea_level_pressure     6.169160\n",
       "wind_direction         7.253766\n",
       "wind_speed             0.723084\n",
       "dtype: float64"
      ]
     },
     "execution_count": 18,
     "metadata": {},
     "output_type": "execute_result"
    }
   ],
   "source": [
    "new_train.isnull().sum()*100/new_train.shape[0]"
   ]
  },
  {
   "cell_type": "code",
   "execution_count": 19,
   "metadata": {
    "collapsed": true,
    "jupyter": {
     "outputs_hidden": true
    }
   },
   "outputs": [
    {
     "data": {
      "text/plain": [
       "row_id                 0.000000\n",
       "building_id            0.000000\n",
       "meter                  0.000000\n",
       "timestamp              0.000000\n",
       "site_id                0.000000\n",
       "primary_use            0.000000\n",
       "square_feet            0.000000\n",
       "year_built            58.991597\n",
       "floor_count            0.000000\n",
       "air_temperature        0.532167\n",
       "cloud_coverage        46.866438\n",
       "dew_temperature        0.625453\n",
       "precip_depth_1_hr     18.709861\n",
       "sea_level_pressure     6.035901\n",
       "wind_direction         7.143488\n",
       "wind_speed             0.724476\n",
       "dtype: float64"
      ]
     },
     "execution_count": 19,
     "metadata": {},
     "output_type": "execute_result"
    }
   ],
   "source": [
    "new_test.isnull().sum()*100/new_test.shape[0]"
   ]
  },
  {
   "cell_type": "markdown",
   "metadata": {},
   "source": [
    "C'est bon pour `floor_count`, au tour de `year_built`"
   ]
  },
  {
   "cell_type": "code",
   "execution_count": 20,
   "metadata": {},
   "outputs": [
    {
     "data": {
      "text/plain": [
       "0"
      ]
     },
     "execution_count": 20,
     "metadata": {},
     "output_type": "execute_result"
    }
   ],
   "source": [
    "list_pu_mean=[]\n",
    "list_pu_mean_test=[]\n",
    "for i in list_pu:\n",
    "    temp=new_train[new_train['primary_use']==i]['year_built'].dropna()\n",
    "    if (len(temp)>0):\n",
    "        list_pu_mean.append(statistics.mean(temp))\n",
    "    else :\n",
    "        list_pu_mean.append(0)\n",
    "        \n",
    "for i in list_pu:\n",
    "    temp=new_test[new_test['primary_use']==i]['year_built'].dropna()\n",
    "    if (len(temp)>0):\n",
    "        list_pu_mean_test.append(statistics.mean(temp))\n",
    "    else :\n",
    "        list_pu_mean_test.append(0)\n",
    "gc.collect()"
   ]
  },
  {
   "cell_type": "code",
   "execution_count": 21,
   "metadata": {},
   "outputs": [
    {
     "data": {
      "text/plain": [
       "0"
      ]
     },
     "execution_count": 21,
     "metadata": {},
     "output_type": "execute_result"
    }
   ],
   "source": [
    "for i in range(len(list_pu)):\n",
    "    if list_pu[i]!=\"Services\":\n",
    "        new_train.loc[new_train.primary_use==list_pu[i],['year_built']]=new_train[new_train['primary_use']==list_pu[i]]['year_built'].fillna(list_pu_mean[i])\n",
    "        new_test.loc[new_test.primary_use==list_pu[i],['year_built']]=new_test[new_test['primary_use']==list_pu[i]]['year_built'].fillna(list_pu_mean_test[i])\n",
    "new_train\n",
    "gc.collect()"
   ]
  },
  {
   "cell_type": "code",
   "execution_count": 22,
   "metadata": {
    "collapsed": true,
    "jupyter": {
     "outputs_hidden": true
    }
   },
   "outputs": [
    {
     "data": {
      "text/plain": [
       "building_id            0.000000\n",
       "meter                  0.000000\n",
       "timestamp              0.000000\n",
       "meter_reading          0.000000\n",
       "site_id                0.000000\n",
       "primary_use            0.000000\n",
       "square_feet            0.000000\n",
       "year_built             0.485755\n",
       "floor_count            0.000000\n",
       "air_temperature        0.484900\n",
       "cloud_coverage        43.606908\n",
       "dew_temperature        0.502424\n",
       "precip_depth_1_hr     18.867345\n",
       "sea_level_pressure     6.169160\n",
       "wind_direction         7.253766\n",
       "wind_speed             0.723084\n",
       "dtype: float64"
      ]
     },
     "execution_count": 22,
     "metadata": {},
     "output_type": "execute_result"
    }
   ],
   "source": [
    "new_train.isnull().sum()*100/new_train.shape[0]"
   ]
  },
  {
   "cell_type": "code",
   "execution_count": 23,
   "metadata": {
    "collapsed": true,
    "jupyter": {
     "outputs_hidden": true
    }
   },
   "outputs": [
    {
     "data": {
      "text/plain": [
       "row_id                 0.000000\n",
       "building_id            0.000000\n",
       "meter                  0.000000\n",
       "timestamp              0.000000\n",
       "site_id                0.000000\n",
       "primary_use            0.000000\n",
       "square_feet            0.000000\n",
       "year_built             0.462185\n",
       "floor_count            0.000000\n",
       "air_temperature        0.532167\n",
       "cloud_coverage        46.866438\n",
       "dew_temperature        0.625453\n",
       "precip_depth_1_hr     18.709861\n",
       "sea_level_pressure     6.035901\n",
       "wind_direction         7.143488\n",
       "wind_speed             0.724476\n",
       "dtype: float64"
      ]
     },
     "execution_count": 23,
     "metadata": {},
     "output_type": "execute_result"
    }
   ],
   "source": [
    "new_test.isnull().sum()*100/new_test.shape[0]"
   ]
  },
  {
   "cell_type": "code",
   "execution_count": 24,
   "metadata": {},
   "outputs": [
    {
     "data": {
      "text/plain": [
       "0"
      ]
     },
     "execution_count": 24,
     "metadata": {},
     "output_type": "execute_result"
    }
   ],
   "source": [
    "list_sid_mean=[]\n",
    "list_sid_mean_test=[]\n",
    "for i in list_sid:\n",
    "    temp=new_train[new_train['site_id']==i]['year_built'].dropna()\n",
    "    if (len(temp)>0):\n",
    "        list_sid_mean.append(statistics.mean(temp))\n",
    "    else :\n",
    "        list_sid_mean.append(0)\n",
    "        \n",
    "for i in list_sid:\n",
    "    temp=new_test[new_test['site_id']==i]['year_built'].dropna()\n",
    "    if (len(temp)>0):\n",
    "        list_sid_mean_test.append(statistics.mean(temp))\n",
    "    else :\n",
    "        list_sid_mean_test.append(0)\n",
    "gc.collect()"
   ]
  },
  {
   "cell_type": "code",
   "execution_count": 25,
   "metadata": {},
   "outputs": [
    {
     "data": {
      "text/plain": [
       "0"
      ]
     },
     "execution_count": 25,
     "metadata": {},
     "output_type": "execute_result"
    }
   ],
   "source": [
    "for i in range(len(list_sid)):\n",
    "    new_train.loc[new_train.site_id==list_sid[i],['year_built']]=new_train[new_train['site_id']==list_sid[i]]['year_built'].fillna(list_sid_mean[i])\n",
    "    new_test.loc[new_test.site_id==list_sid[i],['year_built']]=new_test[new_test['site_id']==list_sid[i]]['year_built'].fillna(list_sid_mean_test[i])\n",
    "new_train\n",
    "gc.collect()"
   ]
  },
  {
   "cell_type": "code",
   "execution_count": 26,
   "metadata": {
    "collapsed": true,
    "jupyter": {
     "outputs_hidden": true
    }
   },
   "outputs": [
    {
     "data": {
      "text/plain": [
       "building_id            0.000000\n",
       "meter                  0.000000\n",
       "timestamp              0.000000\n",
       "meter_reading          0.000000\n",
       "site_id                0.000000\n",
       "primary_use            0.000000\n",
       "square_feet            0.000000\n",
       "year_built             0.000000\n",
       "floor_count            0.000000\n",
       "air_temperature        0.484900\n",
       "cloud_coverage        43.606908\n",
       "dew_temperature        0.502424\n",
       "precip_depth_1_hr     18.867345\n",
       "sea_level_pressure     6.169160\n",
       "wind_direction         7.253766\n",
       "wind_speed             0.723084\n",
       "dtype: float64"
      ]
     },
     "execution_count": 26,
     "metadata": {},
     "output_type": "execute_result"
    }
   ],
   "source": [
    "new_train.isnull().sum()*100/new_train.shape[0]"
   ]
  },
  {
   "cell_type": "code",
   "execution_count": 27,
   "metadata": {
    "collapsed": true,
    "jupyter": {
     "outputs_hidden": true
    }
   },
   "outputs": [
    {
     "data": {
      "text/plain": [
       "row_id                 0.000000\n",
       "building_id            0.000000\n",
       "meter                  0.000000\n",
       "timestamp              0.000000\n",
       "site_id                0.000000\n",
       "primary_use            0.000000\n",
       "square_feet            0.000000\n",
       "year_built             0.000000\n",
       "floor_count            0.000000\n",
       "air_temperature        0.532167\n",
       "cloud_coverage        46.866438\n",
       "dew_temperature        0.625453\n",
       "precip_depth_1_hr     18.709861\n",
       "sea_level_pressure     6.035901\n",
       "wind_direction         7.143488\n",
       "wind_speed             0.724476\n",
       "dtype: float64"
      ]
     },
     "execution_count": 27,
     "metadata": {},
     "output_type": "execute_result"
    }
   ],
   "source": [
    "new_test.isnull().sum()*100/new_test.shape[0]"
   ]
  },
  {
   "cell_type": "markdown",
   "metadata": {},
   "source": [
    "Pour les infos météo, on se base seulement selon le site. Se baser sur `primary_use` n'aurait pas de sens pour ce type de donnée."
   ]
  },
  {
   "cell_type": "code",
   "execution_count": 28,
   "metadata": {
    "collapsed": true,
    "jupyter": {
     "outputs_hidden": true
    }
   },
   "outputs": [
    {
     "name": "stdout",
     "output_type": "stream",
     "text": [
      "13\n",
      "building_id            0.000000\n",
      "meter                  0.000000\n",
      "timestamp              0.000000\n",
      "meter_reading          0.000000\n",
      "site_id                0.000000\n",
      "primary_use            0.000000\n",
      "square_feet            0.000000\n",
      "year_built             0.000000\n",
      "floor_count            0.000000\n",
      "air_temperature        0.022790\n",
      "cloud_coverage        48.947567\n",
      "dew_temperature        0.022790\n",
      "precip_depth_1_hr      0.147690\n",
      "sea_level_pressure     1.377997\n",
      "wind_direction         2.481301\n",
      "wind_speed             0.022790\n",
      "dtype: float64\n",
      "\n",
      "9\n",
      "building_id            0.000000\n",
      "meter                  0.000000\n",
      "timestamp              0.000000\n",
      "meter_reading          0.000000\n",
      "site_id                0.000000\n",
      "primary_use            0.000000\n",
      "square_feet            0.000000\n",
      "year_built             0.000000\n",
      "floor_count            0.000000\n",
      "air_temperature        0.102563\n",
      "cloud_coverage        39.411560\n",
      "dew_temperature        0.125330\n",
      "precip_depth_1_hr      0.125218\n",
      "sea_level_pressure     2.770252\n",
      "wind_direction        29.179386\n",
      "wind_speed             1.151672\n",
      "dtype: float64\n",
      "\n",
      "2\n",
      "building_id            0.000000\n",
      "meter                  0.000000\n",
      "timestamp              0.000000\n",
      "meter_reading          0.000000\n",
      "site_id                0.000000\n",
      "primary_use            0.000000\n",
      "square_feet            0.000000\n",
      "year_built             0.000000\n",
      "floor_count            0.000000\n",
      "air_temperature        0.022724\n",
      "cloud_coverage        26.817404\n",
      "dew_temperature        0.022724\n",
      "precip_depth_1_hr      0.761566\n",
      "sea_level_pressure     0.511992\n",
      "wind_direction         6.737825\n",
      "wind_speed             0.068213\n",
      "dtype: float64\n",
      "\n",
      "14\n",
      "building_id            0.000000\n",
      "meter                  0.000000\n",
      "timestamp              0.000000\n",
      "meter_reading          0.000000\n",
      "site_id                0.000000\n",
      "primary_use            0.000000\n",
      "square_feet            0.000000\n",
      "year_built             0.000000\n",
      "floor_count            0.000000\n",
      "air_temperature        0.091585\n",
      "cloud_coverage        37.761373\n",
      "dew_temperature        0.091585\n",
      "precip_depth_1_hr      0.432100\n",
      "sea_level_pressure     1.332917\n",
      "wind_direction         3.384241\n",
      "wind_speed             0.341954\n",
      "dtype: float64\n",
      "\n",
      "3\n",
      "building_id            0.000000\n",
      "meter                  0.000000\n",
      "timestamp              0.000000\n",
      "meter_reading          0.000000\n",
      "site_id                0.000000\n",
      "primary_use            0.000000\n",
      "square_feet            0.000000\n",
      "year_built             0.000000\n",
      "floor_count            0.000000\n",
      "air_temperature        0.091431\n",
      "cloud_coverage        41.503280\n",
      "dew_temperature        0.114215\n",
      "precip_depth_1_hr      0.468124\n",
      "sea_level_pressure     1.842372\n",
      "wind_direction         1.786973\n",
      "wind_speed             0.091431\n",
      "dtype: float64\n",
      "\n",
      "15\n",
      "building_id            0.000000\n",
      "meter                  0.000000\n",
      "timestamp              0.000000\n",
      "meter_reading          0.000000\n",
      "site_id                0.000000\n",
      "primary_use            0.000000\n",
      "square_feet            0.000000\n",
      "year_built             0.000000\n",
      "floor_count            0.000000\n",
      "air_temperature        3.916578\n",
      "cloud_coverage        51.789423\n",
      "dew_temperature        3.957072\n",
      "precip_depth_1_hr     82.071057\n",
      "sea_level_pressure    10.401784\n",
      "wind_direction         6.668342\n",
      "wind_speed             4.248854\n",
      "dtype: float64\n",
      "\n",
      "5\n",
      "building_id             0.000000\n",
      "meter                   0.000000\n",
      "timestamp               0.000000\n",
      "meter_reading           0.000000\n",
      "site_id                 0.000000\n",
      "primary_use             0.000000\n",
      "square_feet             0.000000\n",
      "year_built              0.000000\n",
      "floor_count             0.000000\n",
      "air_temperature         0.352914\n",
      "cloud_coverage         68.977687\n",
      "dew_temperature         0.352914\n",
      "precip_depth_1_hr     100.000000\n",
      "sea_level_pressure    100.000000\n",
      "wind_direction          3.688525\n",
      "wind_speed              0.364299\n",
      "dtype: float64\n",
      "\n",
      "4\n",
      "building_id            0.000000\n",
      "meter                  0.000000\n",
      "timestamp              0.000000\n",
      "meter_reading          0.000000\n",
      "site_id                0.000000\n",
      "primary_use            0.000000\n",
      "square_feet            0.000000\n",
      "year_built             0.000000\n",
      "floor_count            0.000000\n",
      "air_temperature        0.010981\n",
      "cloud_coverage        48.086766\n",
      "dew_temperature        0.034014\n",
      "precip_depth_1_hr     15.067908\n",
      "sea_level_pressure     0.847008\n",
      "wind_direction         1.204560\n",
      "wind_speed             0.010981\n",
      "dtype: float64\n",
      "\n",
      "0\n",
      "building_id            0.000000\n",
      "meter                  0.000000\n",
      "timestamp              0.000000\n",
      "meter_reading          0.000000\n",
      "site_id                0.000000\n",
      "primary_use            0.000000\n",
      "square_feet            0.000000\n",
      "year_built             0.000000\n",
      "floor_count            0.000000\n",
      "air_temperature        0.000000\n",
      "cloud_coverage        41.985466\n",
      "dew_temperature        0.000000\n",
      "precip_depth_1_hr      0.000000\n",
      "sea_level_pressure     0.606614\n",
      "wind_direction         3.219531\n",
      "wind_speed             0.000000\n",
      "dtype: float64\n",
      "\n",
      "6\n",
      "building_id            0.000000\n",
      "meter                  0.000000\n",
      "timestamp              0.000000\n",
      "meter_reading          0.000000\n",
      "site_id                0.000000\n",
      "primary_use            0.000000\n",
      "square_feet            0.000000\n",
      "year_built             0.000000\n",
      "floor_count            0.000000\n",
      "air_temperature        0.139044\n",
      "cloud_coverage        34.083334\n",
      "dew_temperature        0.139044\n",
      "precip_depth_1_hr      0.021553\n",
      "sea_level_pressure     1.989125\n",
      "wind_direction         8.874281\n",
      "wind_speed             0.477151\n",
      "dtype: float64\n",
      "\n",
      "8\n",
      "building_id            0.000000\n",
      "meter                  0.000000\n",
      "timestamp              0.000000\n",
      "meter_reading          0.000000\n",
      "site_id                0.000000\n",
      "primary_use            0.000000\n",
      "square_feet            0.000000\n",
      "year_built             0.000000\n",
      "floor_count            0.000000\n",
      "air_temperature        0.036449\n",
      "cloud_coverage        44.121039\n",
      "dew_temperature        0.036449\n",
      "precip_depth_1_hr      0.011974\n",
      "sea_level_pressure     0.974442\n",
      "wind_direction         2.859055\n",
      "wind_speed             0.000000\n",
      "dtype: float64\n",
      "\n",
      "1\n",
      "building_id             0.000000\n",
      "meter                   0.000000\n",
      "timestamp               0.000000\n",
      "meter_reading           0.000000\n",
      "site_id                 0.000000\n",
      "primary_use             0.000000\n",
      "square_feet             0.000000\n",
      "year_built              0.000000\n",
      "floor_count             0.000000\n",
      "air_temperature         0.250471\n",
      "cloud_coverage         80.635467\n",
      "dew_temperature         0.250471\n",
      "precip_depth_1_hr     100.000000\n",
      "sea_level_pressure      0.831109\n",
      "wind_direction          0.273241\n",
      "wind_speed              0.239086\n",
      "dtype: float64\n",
      "\n",
      "10\n",
      "building_id            0.000000\n",
      "meter                  0.000000\n",
      "timestamp              0.000000\n",
      "meter_reading          0.000000\n",
      "site_id                0.000000\n",
      "primary_use            0.000000\n",
      "square_feet            0.000000\n",
      "year_built             0.000000\n",
      "floor_count            0.000000\n",
      "air_temperature        0.296543\n",
      "cloud_coverage        28.118870\n",
      "dew_temperature        0.330816\n",
      "precip_depth_1_hr      0.325225\n",
      "sea_level_pressure     1.643385\n",
      "wind_direction         6.072332\n",
      "wind_speed             1.194681\n",
      "dtype: float64\n",
      "\n",
      "7\n",
      "building_id             0.000000\n",
      "meter                   0.000000\n",
      "timestamp               0.000000\n",
      "meter_reading           0.000000\n",
      "site_id                 0.000000\n",
      "primary_use             0.000000\n",
      "square_feet             0.000000\n",
      "year_built              0.000000\n",
      "floor_count             0.000000\n",
      "air_temperature         1.919652\n",
      "cloud_coverage        100.000000\n",
      "dew_temperature         2.183096\n",
      "precip_depth_1_hr      91.669326\n",
      "sea_level_pressure      2.011285\n",
      "wind_direction          1.919652\n",
      "wind_speed              1.919652\n",
      "dtype: float64\n",
      "\n",
      "12\n",
      "building_id             0.000000\n",
      "meter                   0.000000\n",
      "timestamp               0.000000\n",
      "meter_reading           0.000000\n",
      "site_id                 0.000000\n",
      "primary_use             0.000000\n",
      "square_feet             0.000000\n",
      "year_built              0.000000\n",
      "floor_count             0.000000\n",
      "air_temperature         0.329209\n",
      "cloud_coverage          1.000605\n",
      "dew_temperature         0.329209\n",
      "precip_depth_1_hr     100.000000\n",
      "sea_level_pressure      0.966418\n",
      "wind_direction          0.340604\n",
      "wind_speed              0.329209\n",
      "dtype: float64\n",
      "\n",
      "11\n",
      "building_id             0.000000\n",
      "meter                   0.000000\n",
      "timestamp               0.000000\n",
      "meter_reading           0.000000\n",
      "site_id                 0.000000\n",
      "primary_use             0.000000\n",
      "square_feet             0.000000\n",
      "year_built              0.000000\n",
      "floor_count             0.000000\n",
      "air_temperature         1.841636\n",
      "cloud_coverage        100.000000\n",
      "dew_temperature         2.107836\n",
      "precip_depth_1_hr      91.669108\n",
      "sea_level_pressure      1.931207\n",
      "wind_direction          1.841636\n",
      "wind_speed              1.841636\n",
      "dtype: float64\n",
      "\n"
     ]
    }
   ],
   "source": [
    "for i in list_sid:\n",
    "    print(i)\n",
    "    print(new_train[new_train['site_id']==i].isnull().sum()*100/new_train[new_train['site_id']==i].shape[0])\n",
    "    print(\"\")"
   ]
  },
  {
   "cell_type": "code",
   "execution_count": 29,
   "metadata": {},
   "outputs": [
    {
     "data": {
      "text/plain": [
       "0"
      ]
     },
     "execution_count": 29,
     "metadata": {},
     "output_type": "execute_result"
    }
   ],
   "source": [
    "#cloud coverage\n",
    "#site id 7, 11 n'ont aucune donnée\n",
    "\n",
    "list_sid_mean=[]\n",
    "list_sid_mean_test=[]\n",
    "for i in list_sid:\n",
    "    temp=new_train[new_train['site_id']==i]['cloud_coverage'].dropna()\n",
    "    if (len(temp)>0):\n",
    "        list_sid_mean.append(statistics.mean(temp))\n",
    "    else :\n",
    "        list_sid_mean.append(0)\n",
    "        \n",
    "for i in list_sid:\n",
    "    temp=new_test[new_test['site_id']==i]['cloud_coverage'].dropna()\n",
    "    if (len(temp)>0):\n",
    "        list_sid_mean_test.append(statistics.mean(temp))\n",
    "    else :\n",
    "        list_sid_mean_test.append(0)\n",
    "\n",
    "for i in range(len(list_sid)):\n",
    "    if (list_sid[i] != 7) & (list_sid[i] != 11):\n",
    "        new_train.loc[new_train.site_id==list_sid[i],['cloud_coverage']]=new_train[new_train['site_id']==list_sid[i]]['cloud_coverage'].fillna(list_sid_mean[i])\n",
    "        new_test.loc[new_test.site_id==list_sid[i],['cloud_coverage']]=new_test[new_test['site_id']==list_sid[i]]['cloud_coverage'].fillna(list_sid_mean_test[i])\n",
    "new_train\n",
    "gc.collect()"
   ]
  },
  {
   "cell_type": "code",
   "execution_count": 30,
   "metadata": {
    "collapsed": true,
    "jupyter": {
     "outputs_hidden": true
    }
   },
   "outputs": [
    {
     "data": {
      "text/plain": [
       "building_id            0.000000\n",
       "meter                  0.000000\n",
       "timestamp              0.000000\n",
       "meter_reading          0.000000\n",
       "site_id                0.000000\n",
       "primary_use            0.000000\n",
       "square_feet            0.000000\n",
       "year_built             0.000000\n",
       "floor_count            0.000000\n",
       "air_temperature        0.484900\n",
       "cloud_coverage         2.446617\n",
       "dew_temperature        0.502424\n",
       "precip_depth_1_hr     18.867345\n",
       "sea_level_pressure     6.169160\n",
       "wind_direction         7.253766\n",
       "wind_speed             0.723084\n",
       "dtype: float64"
      ]
     },
     "execution_count": 30,
     "metadata": {},
     "output_type": "execute_result"
    }
   ],
   "source": [
    "new_train.isnull().sum()*100/new_train.shape[0] #il reste 2% de cloud_coverage inconnu"
   ]
  },
  {
   "cell_type": "code",
   "execution_count": 31,
   "metadata": {
    "collapsed": true,
    "jupyter": {
     "outputs_hidden": true
    }
   },
   "outputs": [
    {
     "data": {
      "text/plain": [
       "row_id                 0.000000\n",
       "building_id            0.000000\n",
       "meter                  0.000000\n",
       "timestamp              0.000000\n",
       "site_id                0.000000\n",
       "primary_use            0.000000\n",
       "square_feet            0.000000\n",
       "year_built             0.000000\n",
       "floor_count            0.000000\n",
       "air_temperature        0.532167\n",
       "cloud_coverage         2.352941\n",
       "dew_temperature        0.625453\n",
       "precip_depth_1_hr     18.709861\n",
       "sea_level_pressure     6.035901\n",
       "wind_direction         7.143488\n",
       "wind_speed             0.724476\n",
       "dtype: float64"
      ]
     },
     "execution_count": 31,
     "metadata": {},
     "output_type": "execute_result"
    }
   ],
   "source": [
    "new_test.isnull().sum()*100/new_test.shape[0]"
   ]
  },
  {
   "cell_type": "code",
   "execution_count": 32,
   "metadata": {},
   "outputs": [
    {
     "data": {
      "text/plain": [
       "0"
      ]
     },
     "execution_count": 32,
     "metadata": {},
     "output_type": "execute_result"
    }
   ],
   "source": [
    "#precip_depth_1_hr\n",
    "#12, 5, 1 n'ont pas de donnée\n",
    "\n",
    "list_sid_mean=[]\n",
    "list_sid_mean_test=[]\n",
    "for i in list_sid:\n",
    "    temp=new_train[new_train['site_id']==i]['precip_depth_1_hr'].dropna()\n",
    "    if (len(temp)>0):\n",
    "        list_sid_mean.append(statistics.mean(temp))\n",
    "    else :\n",
    "        list_sid_mean.append(0)\n",
    "\n",
    "for i in list_sid:\n",
    "    temp=new_test[new_test['site_id']==i]['precip_depth_1_hr'].dropna()\n",
    "    if (len(temp)>0):\n",
    "        list_sid_mean_test.append(statistics.mean(temp))\n",
    "    else :\n",
    "        list_sid_mean_test.append(0)\n",
    "        \n",
    "for i in range(len(list_sid)):\n",
    "    if (list_sid[i] != 12) & (list_sid[i] != 5) & (list_sid[i] != 1):\n",
    "        new_train.loc[new_train.site_id==list_sid[i],['precip_depth_1_hr']]=new_train[new_train['site_id']==list_sid[i]]['precip_depth_1_hr'].fillna(list_sid_mean[i])\n",
    "        new_test.loc[new_test.site_id==list_sid[i],['precip_depth_1_hr']]=new_test[new_test['site_id']==list_sid[i]]['precip_depth_1_hr'].fillna(list_sid_mean_test[i])\n",
    "new_train\n",
    "gc.collect()"
   ]
  },
  {
   "cell_type": "code",
   "execution_count": 33,
   "metadata": {
    "collapsed": true,
    "jupyter": {
     "outputs_hidden": true
    }
   },
   "outputs": [
    {
     "data": {
      "text/plain": [
       "building_id           0.000000\n",
       "meter                 0.000000\n",
       "timestamp             0.000000\n",
       "meter_reading         0.000000\n",
       "site_id               0.000000\n",
       "primary_use           0.000000\n",
       "square_feet           0.000000\n",
       "year_built            0.000000\n",
       "floor_count           0.000000\n",
       "air_temperature       0.484900\n",
       "cloud_coverage        2.446617\n",
       "dew_temperature       0.502424\n",
       "precip_depth_1_hr     8.309268\n",
       "sea_level_pressure    6.169160\n",
       "wind_direction        7.253766\n",
       "wind_speed            0.723084\n",
       "dtype: float64"
      ]
     },
     "execution_count": 33,
     "metadata": {},
     "output_type": "execute_result"
    }
   ],
   "source": [
    "new_train.isnull().sum()*100/new_train.shape[0] #il reste 8% d'inconnu pour precip_depth_1_hr"
   ]
  },
  {
   "cell_type": "code",
   "execution_count": 34,
   "metadata": {
    "collapsed": true,
    "jupyter": {
     "outputs_hidden": true
    }
   },
   "outputs": [
    {
     "data": {
      "text/plain": [
       "row_id                0.000000\n",
       "building_id           0.000000\n",
       "meter                 0.000000\n",
       "timestamp             0.000000\n",
       "site_id               0.000000\n",
       "primary_use           0.000000\n",
       "square_feet           0.000000\n",
       "year_built            0.000000\n",
       "floor_count           0.000000\n",
       "air_temperature       0.532167\n",
       "cloud_coverage        2.352941\n",
       "dew_temperature       0.625453\n",
       "precip_depth_1_hr     7.899160\n",
       "sea_level_pressure    6.035901\n",
       "wind_direction        7.143488\n",
       "wind_speed            0.724476\n",
       "dtype: float64"
      ]
     },
     "execution_count": 34,
     "metadata": {},
     "output_type": "execute_result"
    }
   ],
   "source": [
    "new_test.isnull().sum()*100/new_test.shape[0]"
   ]
  },
  {
   "cell_type": "code",
   "execution_count": 35,
   "metadata": {},
   "outputs": [
    {
     "data": {
      "text/plain": [
       "0"
      ]
     },
     "execution_count": 35,
     "metadata": {},
     "output_type": "execute_result"
    }
   ],
   "source": [
    "#sea_lever_pressure\n",
    "#le site 5 n'a aucune donnée\n",
    "\n",
    "list_sid_mean=[]\n",
    "list_sid_mean_test=[]\n",
    "for i in list_sid:\n",
    "    temp=new_train[new_train['site_id']==i]['sea_level_pressure'].dropna()\n",
    "    if (len(temp)>0):\n",
    "        list_sid_mean.append(statistics.mean(temp))\n",
    "    else :\n",
    "        list_sid_mean.append(0)\n",
    "        \n",
    "for i in list_sid:\n",
    "    temp=new_test[new_test['site_id']==i]['sea_level_pressure'].dropna()\n",
    "    if (len(temp)>0):\n",
    "        list_sid_mean_test.append(statistics.mean(temp))\n",
    "    else :\n",
    "        list_sid_mean_test.append(0)\n",
    "\n",
    "for i in range(len(list_sid)):\n",
    "    if list_sid[i] != 5:\n",
    "        new_train.loc[new_train.site_id==list_sid[i],['sea_level_pressure']]=new_train[new_train['site_id']==list_sid[i]]['sea_level_pressure'].fillna(list_sid_mean[i])\n",
    "        new_test.loc[new_test.site_id==list_sid[i],['sea_level_pressure']]=new_test[new_test['site_id']==list_sid[i]]['sea_level_pressure'].fillna(list_sid_mean_test[i])\n",
    "new_train\n",
    "gc.collect()"
   ]
  },
  {
   "cell_type": "code",
   "execution_count": 36,
   "metadata": {
    "collapsed": true,
    "jupyter": {
     "outputs_hidden": true
    }
   },
   "outputs": [
    {
     "data": {
      "text/plain": [
       "building_id           0.000000\n",
       "meter                 0.000000\n",
       "timestamp             0.000000\n",
       "meter_reading         0.000000\n",
       "site_id               0.000000\n",
       "primary_use           0.000000\n",
       "square_feet           0.000000\n",
       "year_built            0.000000\n",
       "floor_count           0.000000\n",
       "air_temperature       0.484900\n",
       "cloud_coverage        2.446617\n",
       "dew_temperature       0.502424\n",
       "precip_depth_1_hr     8.309268\n",
       "sea_level_pressure    3.934477\n",
       "wind_direction        7.253766\n",
       "wind_speed            0.723084\n",
       "dtype: float64"
      ]
     },
     "execution_count": 36,
     "metadata": {},
     "output_type": "execute_result"
    }
   ],
   "source": [
    "new_train.isnull().sum()*100/new_train.shape[0] #il reste 3.8% d'inconnu pour sea_level_pressure"
   ]
  },
  {
   "cell_type": "code",
   "execution_count": 37,
   "metadata": {
    "collapsed": true,
    "jupyter": {
     "outputs_hidden": true
    }
   },
   "outputs": [
    {
     "data": {
      "text/plain": [
       "row_id                0.000000\n",
       "building_id           0.000000\n",
       "meter                 0.000000\n",
       "timestamp             0.000000\n",
       "site_id               0.000000\n",
       "primary_use           0.000000\n",
       "square_feet           0.000000\n",
       "year_built            0.000000\n",
       "floor_count           0.000000\n",
       "air_temperature       0.532167\n",
       "cloud_coverage        2.352941\n",
       "dew_temperature       0.625453\n",
       "precip_depth_1_hr     7.899160\n",
       "sea_level_pressure    3.739496\n",
       "wind_direction        7.143488\n",
       "wind_speed            0.724476\n",
       "dtype: float64"
      ]
     },
     "execution_count": 37,
     "metadata": {},
     "output_type": "execute_result"
    }
   ],
   "source": [
    "new_test.isnull().sum()*100/new_test.shape[0]"
   ]
  },
  {
   "cell_type": "code",
   "execution_count": 38,
   "metadata": {},
   "outputs": [],
   "source": [
    "#air_temperature_v2\n",
    "\n",
    "temp_train = pd.read_csv('kaggle/input/temperature.csv')\n",
    "temp_train['datetime'] = pd.to_datetime(temp_train['datetime']) #the train dataset contains a 'timestamp' column we convert to a datetime object for ease of use\n",
    "temp_test = pd.read_csv('kaggle/input/filled_weather_test.csv')\n",
    "temp_test.timestamp = pd.to_datetime(temp_test.timestamp, format='%Y-%m-%d %H:%M:%S')\n",
    "\n",
    "temp_train.set_index('datetime',inplace=True)\n",
    "temp_train=temp_train.subtract(273.15)\n",
    "temp_train.index.names=['timestamp']\n",
    "temp_test.set_index('timestamp',inplace=True)\n",
    "\n",
    "villes=['Jacksonville','NA','Phoenix','Philadelphia','San Francisco','NA','Philadelphia','Montreal','Jacksonville','San Antonio','Las Vegas','Montreal','NA','Minneapolis','Philadelphia','Toronto']\n",
    "\n",
    "j=0\n",
    "for i in villes:\n",
    "    if i!='NA':\n",
    "        index=new_train[new_train['site_id']==j][['timestamp','air_temperature']].index\n",
    "        temp=new_train[new_train['site_id']==j][['timestamp','air_temperature']].set_index('timestamp')\n",
    "        temp[temp.air_temperature.isnull()]=temp_train[[i]]     \n",
    "        temp=temp.set_index(index)\n",
    "        new_train.loc[new_train.site_id==j,'air_temperature']=temp\n",
    "    j+=1\n",
    "\n",
    "for i in range(16):\n",
    "    index=new_test[new_test['site_id']==i][['timestamp','air_temperature']].index\n",
    "    temp=new_test[new_test['site_id']==i][['timestamp','air_temperature']].set_index('timestamp')\n",
    "    temp[temp.air_temperature.isnull()]=temp_test[[str(i)]] \n",
    "    new_test.loc[new_test.site_id==i,'air_temperature']=temp.set_index(index)\n"
   ]
  },
  {
   "cell_type": "code",
   "execution_count": 39,
   "metadata": {},
   "outputs": [
    {
     "data": {
      "text/plain": [
       "0"
      ]
     },
     "execution_count": 39,
     "metadata": {},
     "output_type": "execute_result"
    }
   ],
   "source": [
    "del temp_train, temp_test, temp\n",
    "\n",
    "gc.collect()\n",
    "list_sid_mean=[]\n",
    "list_sid_mean_test=[]\n",
    "for i in list_sid:\n",
    "    temp=new_train[new_train['site_id']==i]['air_temperature'].dropna()\n",
    "    if (len(temp)>0):\n",
    "        list_sid_mean.append(statistics.mean(temp))\n",
    "    else :\n",
    "        list_sid_mean.append(0)\n",
    "        \n",
    "for i in list_sid:\n",
    "    temp=new_test[new_test['site_id']==i]['air_temperature'].dropna()\n",
    "    if (len(temp)>0):\n",
    "        list_sid_mean_test.append(statistics.mean(temp))\n",
    "    else :\n",
    "        list_sid_mean_test.append(0)\n",
    "\n",
    "for i in range(len(list_sid)):\n",
    "    new_train.loc[new_train.site_id==list_sid[i],['air_temperature']]=new_train[new_train['site_id']==list_sid[i]]['air_temperature'].fillna(list_sid_mean[i])\n",
    "    new_test.loc[new_test.site_id==list_sid[i],['air_temperature']]=new_test[new_test['site_id']==list_sid[i]]['air_temperature'].fillna(list_sid_mean_test[i])\n",
    "new_train.isnull().sum()*100/new_train.shape[0]\n",
    "gc.collect()"
   ]
  },
  {
   "cell_type": "code",
   "execution_count": 40,
   "metadata": {},
   "outputs": [
    {
     "data": {
      "text/plain": [
       "building_id           0.000000\n",
       "meter                 0.000000\n",
       "timestamp             0.000000\n",
       "meter_reading         0.000000\n",
       "site_id               0.000000\n",
       "primary_use           0.000000\n",
       "square_feet           0.000000\n",
       "year_built            0.000000\n",
       "floor_count           0.000000\n",
       "air_temperature       0.000000\n",
       "cloud_coverage        2.446617\n",
       "dew_temperature       0.502424\n",
       "precip_depth_1_hr     8.309268\n",
       "sea_level_pressure    3.934477\n",
       "wind_direction        7.253766\n",
       "wind_speed            0.723084\n",
       "dtype: float64"
      ]
     },
     "execution_count": 40,
     "metadata": {},
     "output_type": "execute_result"
    }
   ],
   "source": [
    "new_train.isnull().sum()*100/new_train.shape[0]"
   ]
  },
  {
   "cell_type": "code",
   "execution_count": 41,
   "metadata": {},
   "outputs": [
    {
     "data": {
      "text/plain": [
       "row_id                0.000000\n",
       "building_id           0.000000\n",
       "meter                 0.000000\n",
       "timestamp             0.000000\n",
       "site_id               0.000000\n",
       "primary_use           0.000000\n",
       "square_feet           0.000000\n",
       "year_built            0.000000\n",
       "floor_count           0.000000\n",
       "air_temperature       0.000000\n",
       "cloud_coverage        2.352941\n",
       "dew_temperature       0.625453\n",
       "precip_depth_1_hr     7.899160\n",
       "sea_level_pressure    3.739496\n",
       "wind_direction        7.143488\n",
       "wind_speed            0.724476\n",
       "dtype: float64"
      ]
     },
     "execution_count": 41,
     "metadata": {},
     "output_type": "execute_result"
    }
   ],
   "source": [
    "new_test.isnull().sum()*100/new_test.shape[0]"
   ]
  },
  {
   "cell_type": "code",
   "execution_count": 42,
   "metadata": {},
   "outputs": [
    {
     "data": {
      "text/plain": [
       "0"
      ]
     },
     "execution_count": 42,
     "metadata": {},
     "output_type": "execute_result"
    }
   ],
   "source": [
    "#dew_temperature\n",
    "list_sid_mean=[]\n",
    "list_sid_mean_test=[]\n",
    "for i in list_sid:\n",
    "    temp=new_train[new_train['site_id']==i]['dew_temperature'].dropna()\n",
    "    if (len(temp)>0):\n",
    "        list_sid_mean.append(statistics.mean(temp))\n",
    "    else :\n",
    "        list_sid_mean.append(0)\n",
    "        \n",
    "for i in list_sid:\n",
    "    temp=new_test[new_test['site_id']==i]['dew_temperature'].dropna()\n",
    "    if (len(temp)>0):\n",
    "        list_sid_mean_test.append(statistics.mean(temp))\n",
    "    else :\n",
    "        list_sid_mean_test.append(0)\n",
    "\n",
    "for i in range(len(list_sid)):\n",
    "    new_train.loc[new_train.site_id==list_sid[i],['dew_temperature']]=new_train[new_train['site_id']==list_sid[i]]['dew_temperature'].fillna(list_sid_mean[i])\n",
    "    new_test.loc[new_test.site_id==list_sid[i],['dew_temperature']]=new_test[new_test['site_id']==list_sid[i]]['dew_temperature'].fillna(list_sid_mean_test[i])\n",
    "\n",
    "new_train.isnull().sum()*100/new_train.shape[0]\n",
    "gc.collect()"
   ]
  },
  {
   "cell_type": "code",
   "execution_count": 43,
   "metadata": {},
   "outputs": [
    {
     "data": {
      "text/plain": [
       "building_id           0.000000\n",
       "meter                 0.000000\n",
       "timestamp             0.000000\n",
       "meter_reading         0.000000\n",
       "site_id               0.000000\n",
       "primary_use           0.000000\n",
       "square_feet           0.000000\n",
       "year_built            0.000000\n",
       "floor_count           0.000000\n",
       "air_temperature       0.000000\n",
       "cloud_coverage        2.446617\n",
       "dew_temperature       0.000000\n",
       "precip_depth_1_hr     8.309268\n",
       "sea_level_pressure    3.934477\n",
       "wind_direction        0.000000\n",
       "wind_speed            0.723084\n",
       "dtype: float64"
      ]
     },
     "execution_count": 43,
     "metadata": {},
     "output_type": "execute_result"
    }
   ],
   "source": [
    "#wind_direction\n",
    "list_sid_mean=[]\n",
    "list_sid_mean_test=[]\n",
    "for i in list_sid:\n",
    "    temp=new_train[new_train['site_id']==i]['wind_direction'].dropna()\n",
    "    if (len(temp)>0):\n",
    "        list_sid_mean.append(statistics.mean(temp))\n",
    "    else :\n",
    "        list_sid_mean.append(0)\n",
    "\n",
    "for i in list_sid:\n",
    "    temp=new_test[new_test['site_id']==i]['wind_direction'].dropna()\n",
    "    if (len(temp)>0):\n",
    "        list_sid_mean_test.append(statistics.mean(temp))\n",
    "    else :\n",
    "        list_sid_mean_test.append(0)\n",
    "\n",
    "for i in range(len(list_sid)):\n",
    "    new_train.loc[new_train.site_id==list_sid[i],['wind_direction']]=new_train[new_train['site_id']==list_sid[i]]['wind_direction'].fillna(list_sid_mean[i])\n",
    "    new_test.loc[new_test.site_id==list_sid[i],['wind_direction']]=new_test[new_test['site_id']==list_sid[i]]['wind_direction'].fillna(list_sid_mean_test[i])\n",
    "\n",
    "new_train.isnull().sum()*100/new_train.shape[0]\n"
   ]
  },
  {
   "cell_type": "code",
   "execution_count": 44,
   "metadata": {},
   "outputs": [
    {
     "data": {
      "text/plain": [
       "0"
      ]
     },
     "execution_count": 44,
     "metadata": {},
     "output_type": "execute_result"
    }
   ],
   "source": [
    "#wind_speed\n",
    "list_sid_mean=[]\n",
    "list_sid_mean_test=[]\n",
    "\n",
    "for i in list_sid:\n",
    "    temp=new_train[new_train['site_id']==i]['wind_speed'].dropna()\n",
    "    if (len(temp)>0):\n",
    "        list_sid_mean.append(statistics.mean(temp))\n",
    "    else :\n",
    "        list_sid_mean.append(0)\n",
    "        \n",
    "for i in list_sid:\n",
    "    temp=new_test[new_test['site_id']==i]['wind_speed'].dropna()\n",
    "    if (len(temp)>0):\n",
    "        list_sid_mean_test.append(statistics.mean(temp))\n",
    "    else :\n",
    "        list_sid_mean_test.append(0)\n",
    "\n",
    "for i in range(len(list_sid)):\n",
    "    new_train.loc[new_train.site_id==list_sid[i],['wind_speed']]=new_train[new_train['site_id']==list_sid[i]]['wind_speed'].fillna(list_sid_mean[i])\n",
    "    new_test.loc[new_test.site_id==list_sid[i],['wind_speed']]=new_test[new_test['site_id']==list_sid[i]]['wind_speed'].fillna(list_sid_mean_test[i])\n",
    "\n",
    "new_train.isnull().sum()*100/new_train.shape[0]\n",
    "gc.collect()"
   ]
  },
  {
   "cell_type": "code",
   "execution_count": 45,
   "metadata": {
    "collapsed": true,
    "jupyter": {
     "outputs_hidden": true
    }
   },
   "outputs": [
    {
     "data": {
      "text/plain": [
       "row_id                0.000000\n",
       "building_id           0.000000\n",
       "meter                 0.000000\n",
       "timestamp             0.000000\n",
       "site_id               0.000000\n",
       "primary_use           0.000000\n",
       "square_feet           0.000000\n",
       "year_built            0.000000\n",
       "floor_count           0.000000\n",
       "air_temperature       0.000000\n",
       "cloud_coverage        2.352941\n",
       "dew_temperature       0.000000\n",
       "precip_depth_1_hr     7.899160\n",
       "sea_level_pressure    3.739496\n",
       "wind_direction        0.000000\n",
       "wind_speed            0.000000\n",
       "dtype: float64"
      ]
     },
     "execution_count": 45,
     "metadata": {},
     "output_type": "execute_result"
    }
   ],
   "source": [
    "new_test.isnull().sum()*100/new_test.shape[0]"
   ]
  },
  {
   "cell_type": "code",
   "execution_count": null,
   "metadata": {},
   "outputs": [],
   "source": []
  },
  {
   "cell_type": "markdown",
   "metadata": {},
   "source": [
    "# <a id='6.1'>6.1 Model Training - Linear Regression</a>"
   ]
  },
  {
   "cell_type": "code",
   "execution_count": 46,
   "metadata": {},
   "outputs": [
    {
     "data": {
      "text/plain": [
       "45"
      ]
     },
     "execution_count": 46,
     "metadata": {},
     "output_type": "execute_result"
    }
   ],
   "source": [
    "#FE\n",
    "from pandas.tseries.holiday import USFederalHolidayCalendar as calendar\n",
    "\n",
    "new_train['date'] = new_train.timestamp.dt.date\n",
    "new_train ['heure'] = new_train.timestamp.dt.hour\n",
    "new_train ['mois'] = new_train.timestamp.dt.month\n",
    "new_train ['joursemaine'] = new_train.timestamp.dt.dayofweek\n",
    "\n",
    "cal = calendar()\n",
    "vac = cal.holidays(start=new_train.timestamp.min(), end=new_train.timestamp.max())\n",
    "new_train['EstVac'] = new_train['timestamp'].isin(vac).astype(int)\n",
    "\n",
    "new_test['date'] = new_test.timestamp.dt.date\n",
    "new_test['heure'] = new_test.timestamp.dt.hour\n",
    "new_test['mois'] = new_test.timestamp.dt.month\n",
    "new_test['joursemaine'] = new_test.timestamp.dt.dayofweek\n",
    "\n",
    "cal2 = calendar()\n",
    "vac2 = cal2.holidays(start=new_test.timestamp.min(), end=new_test.timestamp.max())\n",
    "new_test['EstVac'] = new_test['timestamp'].isin(vac2).astype(int)\n",
    "gc.collect()"
   ]
  },
  {
   "cell_type": "code",
   "execution_count": 47,
   "metadata": {},
   "outputs": [
    {
     "data": {
      "text/plain": [
       "0"
      ]
     },
     "execution_count": 47,
     "metadata": {},
     "output_type": "execute_result"
    }
   ],
   "source": [
    "new_train.primary_use = new_train.primary_use.astype('category')\n",
    "new_test.primary_use = new_test.primary_use.astype('category')\n",
    "gc.collect()"
   ]
  },
  {
   "cell_type": "code",
   "execution_count": 48,
   "metadata": {},
   "outputs": [
    {
     "data": {
      "text/plain": [
       "0"
      ]
     },
     "execution_count": 48,
     "metadata": {},
     "output_type": "execute_result"
    }
   ],
   "source": [
    "new_train = new_train.dropna(axis='columns')\n",
    "gc.collect()"
   ]
  },
  {
   "cell_type": "code",
   "execution_count": 49,
   "metadata": {},
   "outputs": [
    {
     "data": {
      "text/plain": [
       "0"
      ]
     },
     "execution_count": 49,
     "metadata": {},
     "output_type": "execute_result"
    }
   ],
   "source": [
    "new_test=new_test.dropna(axis='columns')\n",
    "gc.collect()"
   ]
  },
  {
   "cell_type": "code",
   "execution_count": 50,
   "metadata": {},
   "outputs": [
    {
     "data": {
      "text/html": [
       "<div>\n",
       "<style scoped>\n",
       "    .dataframe tbody tr th:only-of-type {\n",
       "        vertical-align: middle;\n",
       "    }\n",
       "\n",
       "    .dataframe tbody tr th {\n",
       "        vertical-align: top;\n",
       "    }\n",
       "\n",
       "    .dataframe thead th {\n",
       "        text-align: right;\n",
       "    }\n",
       "</style>\n",
       "<table border=\"1\" class=\"dataframe\">\n",
       "  <thead>\n",
       "    <tr style=\"text-align: right;\">\n",
       "      <th></th>\n",
       "      <th>building_id</th>\n",
       "      <th>meter</th>\n",
       "      <th>timestamp</th>\n",
       "      <th>meter_reading</th>\n",
       "      <th>site_id</th>\n",
       "      <th>primary_use</th>\n",
       "      <th>square_feet</th>\n",
       "      <th>year_built</th>\n",
       "      <th>floor_count</th>\n",
       "      <th>air_temperature</th>\n",
       "      <th>dew_temperature</th>\n",
       "      <th>wind_direction</th>\n",
       "      <th>wind_speed</th>\n",
       "      <th>date</th>\n",
       "      <th>heure</th>\n",
       "      <th>mois</th>\n",
       "      <th>joursemaine</th>\n",
       "      <th>EstVac</th>\n",
       "    </tr>\n",
       "  </thead>\n",
       "  <tbody>\n",
       "    <tr>\n",
       "      <th>103</th>\n",
       "      <td>105</td>\n",
       "      <td>0</td>\n",
       "      <td>2016-01-01</td>\n",
       "      <td>23.303600</td>\n",
       "      <td>1</td>\n",
       "      <td>Education</td>\n",
       "      <td>50623</td>\n",
       "      <td>1964.0</td>\n",
       "      <td>5.0</td>\n",
       "      <td>3.800781</td>\n",
       "      <td>2.400391</td>\n",
       "      <td>240.0</td>\n",
       "      <td>3.099609</td>\n",
       "      <td>2016-01-01</td>\n",
       "      <td>0</td>\n",
       "      <td>1</td>\n",
       "      <td>4</td>\n",
       "      <td>1</td>\n",
       "    </tr>\n",
       "    <tr>\n",
       "      <th>104</th>\n",
       "      <td>106</td>\n",
       "      <td>0</td>\n",
       "      <td>2016-01-01</td>\n",
       "      <td>0.374600</td>\n",
       "      <td>1</td>\n",
       "      <td>Education</td>\n",
       "      <td>5374</td>\n",
       "      <td>1964.0</td>\n",
       "      <td>4.0</td>\n",
       "      <td>3.800781</td>\n",
       "      <td>2.400391</td>\n",
       "      <td>240.0</td>\n",
       "      <td>3.099609</td>\n",
       "      <td>2016-01-01</td>\n",
       "      <td>0</td>\n",
       "      <td>1</td>\n",
       "      <td>4</td>\n",
       "      <td>1</td>\n",
       "    </tr>\n",
       "    <tr>\n",
       "      <th>105</th>\n",
       "      <td>106</td>\n",
       "      <td>3</td>\n",
       "      <td>2016-01-01</td>\n",
       "      <td>0.000000</td>\n",
       "      <td>1</td>\n",
       "      <td>Education</td>\n",
       "      <td>5374</td>\n",
       "      <td>1964.0</td>\n",
       "      <td>4.0</td>\n",
       "      <td>3.800781</td>\n",
       "      <td>2.400391</td>\n",
       "      <td>240.0</td>\n",
       "      <td>3.099609</td>\n",
       "      <td>2016-01-01</td>\n",
       "      <td>0</td>\n",
       "      <td>1</td>\n",
       "      <td>4</td>\n",
       "      <td>1</td>\n",
       "    </tr>\n",
       "    <tr>\n",
       "      <th>106</th>\n",
       "      <td>107</td>\n",
       "      <td>0</td>\n",
       "      <td>2016-01-01</td>\n",
       "      <td>175.184006</td>\n",
       "      <td>1</td>\n",
       "      <td>Education</td>\n",
       "      <td>97532</td>\n",
       "      <td>2005.0</td>\n",
       "      <td>10.0</td>\n",
       "      <td>3.800781</td>\n",
       "      <td>2.400391</td>\n",
       "      <td>240.0</td>\n",
       "      <td>3.099609</td>\n",
       "      <td>2016-01-01</td>\n",
       "      <td>0</td>\n",
       "      <td>1</td>\n",
       "      <td>4</td>\n",
       "      <td>1</td>\n",
       "    </tr>\n",
       "    <tr>\n",
       "      <th>107</th>\n",
       "      <td>108</td>\n",
       "      <td>0</td>\n",
       "      <td>2016-01-01</td>\n",
       "      <td>91.265297</td>\n",
       "      <td>1</td>\n",
       "      <td>Education</td>\n",
       "      <td>81580</td>\n",
       "      <td>1913.0</td>\n",
       "      <td>5.0</td>\n",
       "      <td>3.800781</td>\n",
       "      <td>2.400391</td>\n",
       "      <td>240.0</td>\n",
       "      <td>3.099609</td>\n",
       "      <td>2016-01-01</td>\n",
       "      <td>0</td>\n",
       "      <td>1</td>\n",
       "      <td>4</td>\n",
       "      <td>1</td>\n",
       "    </tr>\n",
       "  </tbody>\n",
       "</table>\n",
       "</div>"
      ],
      "text/plain": [
       "     building_id  meter  timestamp  meter_reading  site_id primary_use  \\\n",
       "103          105      0 2016-01-01      23.303600        1   Education   \n",
       "104          106      0 2016-01-01       0.374600        1   Education   \n",
       "105          106      3 2016-01-01       0.000000        1   Education   \n",
       "106          107      0 2016-01-01     175.184006        1   Education   \n",
       "107          108      0 2016-01-01      91.265297        1   Education   \n",
       "\n",
       "     square_feet  year_built  floor_count  air_temperature  dew_temperature  \\\n",
       "103        50623      1964.0          5.0         3.800781         2.400391   \n",
       "104         5374      1964.0          4.0         3.800781         2.400391   \n",
       "105         5374      1964.0          4.0         3.800781         2.400391   \n",
       "106        97532      2005.0         10.0         3.800781         2.400391   \n",
       "107        81580      1913.0          5.0         3.800781         2.400391   \n",
       "\n",
       "     wind_direction  wind_speed        date  heure  mois  joursemaine  EstVac  \n",
       "103           240.0    3.099609  2016-01-01      0     1            4       1  \n",
       "104           240.0    3.099609  2016-01-01      0     1            4       1  \n",
       "105           240.0    3.099609  2016-01-01      0     1            4       1  \n",
       "106           240.0    3.099609  2016-01-01      0     1            4       1  \n",
       "107           240.0    3.099609  2016-01-01      0     1            4       1  "
      ]
     },
     "execution_count": 50,
     "metadata": {},
     "output_type": "execute_result"
    }
   ],
   "source": [
    "new_train.head()"
   ]
  },
  {
   "cell_type": "code",
   "execution_count": 51,
   "metadata": {},
   "outputs": [
    {
     "name": "stdout",
     "output_type": "stream",
     "text": [
      "Mem. usage decreased to 1004.32 Mb (34.6% reduction)\n",
      "Mem. usage decreased to 2107.60 Mb (34.6% reduction)\n",
      "CPU times: user 7.24 s, sys: 6.66 s, total: 13.9 s\n",
      "Wall time: 16.1 s\n"
     ]
    }
   ],
   "source": [
    "%%time\n",
    "new_train = reduce_mem_usage(new_train)\n",
    "new_test = reduce_mem_usage(new_test)"
   ]
  },
  {
   "cell_type": "code",
   "execution_count": 52,
   "metadata": {},
   "outputs": [],
   "source": [
    "# On isole le batiment qui consomme beaucoup plus que les autres ainsi que le site et le type de conso qui consomment beaucoup plus\n",
    "new_train['Indicatrice1'] = (new_train[\"site_id\"]==13) & (new_train[\"meter\"]==2).astype('uint8')\n",
    "new_test['Indicatrice1'] = (new_test[\"site_id\"]==13) & (new_test[\"meter\"]==2).astype('uint8')"
   ]
  },
  {
   "cell_type": "code",
   "execution_count": 53,
   "metadata": {},
   "outputs": [
    {
     "data": {
      "text/plain": [
       "0"
      ]
     },
     "execution_count": 53,
     "metadata": {},
     "output_type": "execute_result"
    }
   ],
   "source": [
    "new_train['Indicatrice2'] = (new_train['building_id'] == 1099).astype('uint8')\n",
    "new_test['Indicatrice2'] = (new_test['building_id'] == 1099).astype('uint8')\n",
    "\n",
    "gc.collect()"
   ]
  },
  {
   "cell_type": "code",
   "execution_count": 54,
   "metadata": {},
   "outputs": [
    {
     "data": {
      "text/plain": [
       "((41697600, 20), (19869886, 20))"
      ]
     },
     "execution_count": 54,
     "metadata": {},
     "output_type": "execute_result"
    }
   ],
   "source": [
    "new_test.shape, new_train.shape"
   ]
  },
  {
   "cell_type": "code",
   "execution_count": null,
   "metadata": {},
   "outputs": [],
   "source": []
  },
  {
   "cell_type": "markdown",
   "metadata": {},
   "source": []
  },
  {
   "cell_type": "code",
   "execution_count": 55,
   "metadata": {},
   "outputs": [],
   "source": [
    "new_train['square_feet']=np.log1p(new_train['square_feet']**0.5)\n",
    "new_test['square_feet']=np.log1p(new_test['square_feet']**0.5)"
   ]
  },
  {
   "cell_type": "code",
   "execution_count": 56,
   "metadata": {},
   "outputs": [],
   "source": [
    "new_train.date=pd.to_numeric(pd.to_datetime(new_train.date))\n",
    "new_test.date=pd.to_numeric(pd.to_datetime(new_test.date))"
   ]
  },
  {
   "cell_type": "code",
   "execution_count": 57,
   "metadata": {},
   "outputs": [],
   "source": [
    "from sklearn import preprocessing\n",
    "le = preprocessing.LabelEncoder()\n",
    "le.fit(new_train['primary_use'])\n",
    "new_train['primary_use']=le.transform(new_train['primary_use'])\n",
    "\n",
    "le = preprocessing.LabelEncoder()\n",
    "le.fit(new_test['primary_use'])\n",
    "new_test['primary_use']=le.transform(new_test['primary_use'])"
   ]
  },
  {
   "cell_type": "code",
   "execution_count": 58,
   "metadata": {},
   "outputs": [],
   "source": [
    "train_df = new_train.dropna(axis='columns')\n",
    "test_df=new_test.dropna(axis='columns')"
   ]
  },
  {
   "cell_type": "code",
   "execution_count": 59,
   "metadata": {},
   "outputs": [
    {
     "data": {
      "text/plain": [
       "0"
      ]
     },
     "execution_count": 59,
     "metadata": {},
     "output_type": "execute_result"
    }
   ],
   "source": [
    "del new_train, new_test\n",
    "gc.collect()"
   ]
  },
  {
   "cell_type": "code",
   "execution_count": 60,
   "metadata": {},
   "outputs": [],
   "source": [
    "target=np.log1p(train_df['meter_reading'])\n",
    "train_df=train_df.drop('meter_reading',axis=1)"
   ]
  },
  {
   "cell_type": "code",
   "execution_count": 61,
   "metadata": {},
   "outputs": [],
   "source": [
    "categorical_f=[\"building_id\",\"site_id\",\"meter\",\"primary_use\",\"date\",\"heure\",\"mois\",\"joursemaine\",\"EstVac\",\"Indicatrice1\",\"Indicatrice2\"]\n",
    "\n",
    "import category_encoders\n",
    "\n",
    "ce=category_encoders.CountEncoder(cols=categorical_f)\n",
    "ce.fit(train_df)\n",
    "train_df=ce.transform(train_df)\n",
    "\n",
    "\n",
    "N_train=train_df.shape[0]\n",
    "for f in categorical_f:\n",
    "    train_df[f]=train_df[f]/N_train\n",
    "\n",
    "ce.fit(test_df)\n",
    "test_df=ce.transform(test_df)\n",
    "\n",
    "\n",
    "N_test=test_df.shape[0]\n",
    "for f in categorical_f:\n",
    "    test_df[f]=test_df[f]/N_test"
   ]
  },
  {
   "cell_type": "code",
   "execution_count": 62,
   "metadata": {},
   "outputs": [
    {
     "name": "stdout",
     "output_type": "stream",
     "text": [
      "Mem. usage decreased to 985.37 Mb (58.1% reduction)\n",
      "Mem. usage decreased to 2226.89 Mb (56.2% reduction)\n"
     ]
    }
   ],
   "source": [
    "train_df=reduce_mem_usage(train_df)\n",
    "test_df=reduce_mem_usage(test_df)"
   ]
  },
  {
   "cell_type": "code",
   "execution_count": 63,
   "metadata": {},
   "outputs": [],
   "source": [
    "from sklearn.linear_model import LinearRegression\n",
    "from sklearn.metrics import mean_squared_error\n",
    "from sklearn.model_selection import KFold"
   ]
  },
  {
   "cell_type": "code",
   "execution_count": 64,
   "metadata": {},
   "outputs": [],
   "source": [
    "train_df=train_df.reset_index(drop=True)\n",
    "target=target.reset_index(drop=True)\n",
    "train_df=train_df.drop(['timestamp'],axis=1)"
   ]
  },
  {
   "cell_type": "code",
   "execution_count": 65,
   "metadata": {},
   "outputs": [],
   "source": [
    "row_ids=test_df[\"row_id\"]\n",
    "test_df=test_df.drop(['timestamp','row_id'],axis=1)"
   ]
  },
  {
   "cell_type": "code",
   "execution_count": 66,
   "metadata": {},
   "outputs": [
    {
     "name": "stdout",
     "output_type": "stream",
     "text": [
      "1.8446679\n",
      "1.7897623\n",
      "1.8735828\n",
      "1.8396672\n",
      "1.7875593\n"
     ]
    }
   ],
   "source": [
    "kf=KFold(n_splits=5)\n",
    "models=[]\n",
    "for trai_ind, val_ind in kf.split(train_df):\n",
    "    test=trai_ind\n",
    "    train_f=train_df.loc[trai_ind]\n",
    "    target_f=target[trai_ind]\n",
    "    \n",
    "    val_f=train_df.loc[val_ind]\n",
    "    val_targ=target[val_ind]\n",
    "    \n",
    "    model=LinearRegression()\n",
    "    model.fit(train_f,target_f)\n",
    "    models.append(model)\n",
    "    val_pred=model.predict(val_f)\n",
    "    print(np.sqrt(mean_squared_error(val_targ,val_pred)))\n",
    "    del train_f, target_f, val_f, val_targ\n",
    "    gc.collect()  \n"
   ]
  },
  {
   "cell_type": "code",
   "execution_count": 67,
   "metadata": {},
   "outputs": [
    {
     "data": {
      "text/plain": [
       "0"
      ]
     },
     "execution_count": 67,
     "metadata": {},
     "output_type": "execute_result"
    }
   ],
   "source": [
    "del train_df, target\n",
    "gc.collect()"
   ]
  },
  {
   "cell_type": "code",
   "execution_count": 68,
   "metadata": {},
   "outputs": [],
   "source": [
    "result=0\n",
    "for m in models:\n",
    "    result+=np.expm1(m.predict(test_df))/len(models)\n",
    "    del m\n",
    "    gc.collect()"
   ]
  },
  {
   "cell_type": "code",
   "execution_count": 69,
   "metadata": {},
   "outputs": [
    {
     "data": {
      "text/plain": [
       "0"
      ]
     },
     "execution_count": 69,
     "metadata": {},
     "output_type": "execute_result"
    }
   ],
   "source": [
    "del test_df, models\n",
    "gc.collect()"
   ]
  },
  {
   "cell_type": "code",
   "execution_count": 70,
   "metadata": {},
   "outputs": [],
   "source": [
    "results_df=pd.DataFrame({\"row_id\": row_ids, \"meter_reading\": np.clip(result, 0, a_max=None)})\n",
    "del row_ids, result\n",
    "gc.collect()\n",
    "results_df.to_csv(\"sub_linear_2.csv\",index=False)"
   ]
  },
  {
   "cell_type": "code",
   "execution_count": null,
   "metadata": {},
   "outputs": [],
   "source": []
  },
  {
   "cell_type": "code",
   "execution_count": null,
   "metadata": {},
   "outputs": [],
   "source": []
  },
  {
   "cell_type": "markdown",
   "metadata": {},
   "source": [
    "# <a id='6.2'>6.2 Model Training - Decision Tree</a>"
   ]
  },
  {
   "cell_type": "code",
   "execution_count": null,
   "metadata": {},
   "outputs": [],
   "source": [
    "#FE\n",
    "from pandas.tseries.holiday import USFederalHolidayCalendar as calendar\n",
    "\n",
    "new_train['date'] = new_train.timestamp.dt.date\n",
    "new_train ['heure'] = new_train.timestamp.dt.hour\n",
    "new_train ['mois'] = new_train.timestamp.dt.month\n",
    "new_train ['joursemaine'] = new_train.timestamp.dt.dayofweek\n",
    "\n",
    "#cal = calendar()\n",
    "#vac = cal.holidays(start=new_train.timestamp.min(), end=new_train.timestamp.max())\n",
    "#new_train['EstVac'] = new_train['timestamp'].isin(vac)\n",
    "\n",
    "new_test['date'] = new_test.timestamp.dt.date\n",
    "new_test['heure'] = new_test.timestamp.dt.hour\n",
    "new_test['mois'] = new_test.timestamp.dt.month\n",
    "new_test['joursemaine'] = new_test.timestamp.dt.dayofweek\n",
    "\n",
    "#cal = calendar()\n",
    "#vac = cal.holidays(start=new_test.timestamp.min(), end=new_test.timestamp.max())\n",
    "#new_test['EstVac'] = new_test['timestamp'].isin(vac)\n",
    "gc.collect()"
   ]
  },
  {
   "cell_type": "code",
   "execution_count": null,
   "metadata": {},
   "outputs": [],
   "source": [
    "new_train.primary_use = new_train.primary_use.astype('category')\n",
    "new_test.primary_use = new_test.primary_use.astype('category')\n",
    "gc.collect()"
   ]
  },
  {
   "cell_type": "code",
   "execution_count": null,
   "metadata": {},
   "outputs": [],
   "source": [
    "new_train = new_train.dropna(axis='columns')\n",
    "gc.collect()"
   ]
  },
  {
   "cell_type": "code",
   "execution_count": null,
   "metadata": {},
   "outputs": [],
   "source": [
    "new_test=new_test.dropna(axis='columns')\n",
    "gc.collect()"
   ]
  },
  {
   "cell_type": "code",
   "execution_count": null,
   "metadata": {},
   "outputs": [],
   "source": [
    "new_train = reduce_mem_usage(new_train)\n",
    "new_test = reduce_mem_usage(new_test)"
   ]
  },
  {
   "cell_type": "code",
   "execution_count": null,
   "metadata": {},
   "outputs": [],
   "source": [
    "new_train['Indicatrice1'] = (new_train[\"site_id\"]==13) & (new_train[\"meter\"]==2).astype('uint8')\n",
    "new_test['Indicatrice1'] = (new_test[\"site_id\"]==13) & (new_test[\"meter\"]==2).astype('uint8')"
   ]
  },
  {
   "cell_type": "code",
   "execution_count": null,
   "metadata": {},
   "outputs": [],
   "source": [
    "\n",
    "new_train['Indicatrice2'] = (new_train['building_id'] == 1099).astype('uint8')\n",
    "new_test['Indicatrice2'] = (new_test['building_id'] == 1099).astype('uint8')\n",
    "\n",
    "gc.collect()"
   ]
  },
  {
   "cell_type": "code",
   "execution_count": null,
   "metadata": {},
   "outputs": [],
   "source": [
    "%%time\n",
    "from sklearn.model_selection import GridSearchCV #, train_test_split,TimeSeriesSplit\n",
    "from sklearn.metrics import make_scorer, mean_squared_error, mean_absolute_error, mean_squared_log_error\n",
    "from sklearn.tree import DecisionTreeRegressor\n",
    "from sklearn import preprocessing"
   ]
  },
  {
   "cell_type": "code",
   "execution_count": null,
   "metadata": {},
   "outputs": [],
   "source": [
    "y_train = new_train['meter_reading']\n",
    "\n",
    "# my_tree = DecisionTreeRegressor()\n",
    "\n",
    "# MSE = make_scorer(mean_squared_error)\n",
    "gc.collect()"
   ]
  },
  {
   "cell_type": "code",
   "execution_count": null,
   "metadata": {},
   "outputs": [],
   "source": [
    "\n",
    "le = preprocessing.LabelEncoder()\n",
    "le.fit(new_train['primary_use'])\n",
    "new_train['primary_use']=le.transform(new_train['primary_use'])\n",
    "gc.collect()"
   ]
  },
  {
   "cell_type": "code",
   "execution_count": null,
   "metadata": {},
   "outputs": [],
   "source": [
    "new_test['primary_use']=le.transform(new_test['primary_use'])\n",
    "new_train['date']=pd.to_numeric(pd.to_datetime(new_train['date']))\n",
    "new_test['date']=pd.to_numeric(pd.to_datetime(new_test['date']))\n",
    "new_train\n",
    "gc.collect()"
   ]
  },
  {
   "cell_type": "code",
   "execution_count": null,
   "metadata": {},
   "outputs": [],
   "source": [
    "%%time\n",
    "new_train = reduce_mem_usage(new_train)\n",
    "new_test = reduce_mem_usage(new_test)"
   ]
  },
  {
   "cell_type": "code",
   "execution_count": null,
   "metadata": {},
   "outputs": [],
   "source": [
    "new_train = new_train.drop('timestamp', axis = 1)"
   ]
  },
  {
   "cell_type": "code",
   "execution_count": null,
   "metadata": {},
   "outputs": [],
   "source": [
    "new_test = new_test.drop('timestamp', axis = 1)\n",
    "gc.collect()"
   ]
  },
  {
   "cell_type": "code",
   "execution_count": null,
   "metadata": {},
   "outputs": [],
   "source": [
    "new_train.shape, new_test.shape"
   ]
  },
  {
   "cell_type": "code",
   "execution_count": null,
   "metadata": {},
   "outputs": [],
   "source": [
    "new_test = new_test.drop('row_id', axis = 1)\n",
    "new_test"
   ]
  },
  {
   "cell_type": "code",
   "execution_count": null,
   "metadata": {},
   "outputs": [],
   "source": [
    "# new_train = pd.read_csv('X.csv', memory_map=True)\n",
    "# new_test = pd.read_csv('X_test.csv', memory_map=True)\n",
    "\n",
    "# import gc\n",
    "# gc.collect()\n",
    "# new_train = reduce_mem_usage(new_train)\n",
    "# new_test = reduce_mem_usage(new_test)"
   ]
  },
  {
   "cell_type": "code",
   "execution_count": null,
   "metadata": {},
   "outputs": [],
   "source": [
    "# %%time\n",
    "# y_train = pd.read_csv('y_train.csv', memory_map=True)"
   ]
  },
  {
   "cell_type": "code",
   "execution_count": null,
   "metadata": {},
   "outputs": [],
   "source": [
    "from sklearn import tree\n",
    "from sklearn.metrics import mean_squared_error\n",
    "from sklearn.metrics import mean_squared_log_error\n",
    "from math import sqrt"
   ]
  },
  {
   "cell_type": "code",
   "execution_count": null,
   "metadata": {},
   "outputs": [],
   "source": [
    "del new_train[\"wind_direction\"]\n",
    "del new_test[\"wind_direction\"]"
   ]
  },
  {
   "cell_type": "code",
   "execution_count": null,
   "metadata": {},
   "outputs": [],
   "source": [
    "new_train.Indicatrice1 = new_train.Indicatrice1.astype('uint8')\n",
    "new_test.Indicatrice1 = new_test.Indicatrice1.astype('uint8')"
   ]
  },
  {
   "cell_type": "code",
   "execution_count": null,
   "metadata": {},
   "outputs": [],
   "source": [
    "X = new_train.drop(['meter_reading'], axis=1)\n",
    "\n",
    "y = y_train"
   ]
  },
  {
   "cell_type": "code",
   "execution_count": null,
   "metadata": {},
   "outputs": [],
   "source": [
    "# y_train = pd.read_csv('y_train.csv', memory_map=True)"
   ]
  },
  {
   "cell_type": "code",
   "execution_count": null,
   "metadata": {},
   "outputs": [],
   "source": [
    "#X = new_train.drop([0])"
   ]
  },
  {
   "cell_type": "code",
   "execution_count": null,
   "metadata": {},
   "outputs": [],
   "source": [
    "X.shape"
   ]
  },
  {
   "cell_type": "code",
   "execution_count": null,
   "metadata": {},
   "outputs": [],
   "source": [
    "%%time\n",
    "reg = tree.DecisionTreeRegressor(min_samples_leaf= 5000, min_samples_split = 5000)#, min_impurity_decrease=0.5, min_impurity_split= 0.5)\n",
    "reg = reg.fit(X,y)\n",
    "y_train_predict_tree=reg.predict(X)"
   ]
  },
  {
   "cell_type": "code",
   "execution_count": null,
   "metadata": {},
   "outputs": [],
   "source": [
    "print(\"La RMSE de l'arbre de régression de train\",sqrt(mean_squared_error(y, y_train_predict_tree)))\n",
    "\n",
    "print(\"La RMSLE de l'arbre de régression de train\",sqrt(mean_squared_log_error(y, y_train_predict_tree)))\n",
    "gc.collect()"
   ]
  },
  {
   "cell_type": "code",
   "execution_count": null,
   "metadata": {
    "collapsed": true,
    "jupyter": {
     "outputs_hidden": true
    }
   },
   "outputs": [],
   "source": [
    "a = tree.plot_tree(reg, \n",
    "#                feature_names=X.columns, \n",
    "#                class_names=X.columns, \n",
    "              filled=True, \n",
    "              rounded=True, \n",
    "              fontsize=10)\n"
   ]
  },
  {
   "cell_type": "code",
   "execution_count": null,
   "metadata": {
    "collapsed": true,
    "jupyter": {
     "outputs_hidden": true,
     "source_hidden": true
    }
   },
   "outputs": [],
   "source": [
    "from sklearn.tree import export_text\n",
    "r=export_text(reg)\n",
    "print(r)"
   ]
  },
  {
   "cell_type": "code",
   "execution_count": null,
   "metadata": {
    "collapsed": true,
    "jupyter": {
     "outputs_hidden": true,
     "source_hidden": true
    }
   },
   "outputs": [],
   "source": [
    "decision_paths = reg.decision_path(X)\n",
    "decision_paths"
   ]
  },
  {
   "cell_type": "code",
   "execution_count": null,
   "metadata": {
    "collapsed": true,
    "jupyter": {
     "outputs_hidden": true,
     "source_hidden": true
    }
   },
   "outputs": [],
   "source": [
    "n_nodes = reg.tree_.node_count\n",
    "children_left = reg.tree_.children_left\n",
    "children_right = reg.tree_.children_right\n",
    "feature = reg.tree_.feature\n",
    "threshold = reg.tree_.threshold\n",
    "\n",
    "node_depth = np.zeros(shape=n_nodes, dtype=np.int64)\n",
    "is_leaves = np.zeros(shape=n_nodes, dtype=bool)\n",
    "stack = [(0, 0)]  # start with the root node id (0) and its depth (0)\n",
    "while len(stack) > 0:\n",
    "    # `pop` ensures each node is only visited once\n",
    "    node_id, depth = stack.pop()\n",
    "    node_depth[node_id] = depth\n",
    "\n",
    "    # If the left and right child of a node is not the same we have a split\n",
    "    # node\n",
    "    is_split_node = children_left[node_id] != children_right[node_id]\n",
    "    # If a split node, append left and right children and depth to `stack`\n",
    "    # so we can loop through them\n",
    "    if is_split_node:\n",
    "        stack.append((children_left[node_id], depth + 1))\n",
    "        stack.append((children_right[node_id], depth + 1))\n",
    "    else:\n",
    "        is_leaves[node_id] = True\n",
    "\n",
    "print(\"The binary tree structure has {n} nodes and has \"\n",
    "      \"the following tree structure:\\n\".format(n=n_nodes))\n",
    "for i in range(n_nodes):\n",
    "    if is_leaves[i]:\n",
    "        print(\"{space}node={node} is a leaf node.\".format(\n",
    "            space=node_depth[i] * \"\\t\", node=i))\n",
    "    else:\n",
    "        print(\"{space}node={node} is a split node: \"\n",
    "              \"go to node {left} if X[:, {feature}] <= {threshold} \"\n",
    "              \"else to node {right}.\".format(\n",
    "                  space=node_depth[i] * \"\\t\",\n",
    "                  node=i,\n",
    "                  left=children_left[i],\n",
    "                  feature=feature[i],\n",
    "                  threshold=threshold[i],\n",
    "                  right=children_right[i]))"
   ]
  },
  {
   "cell_type": "markdown",
   "metadata": {},
   "source": [
    "Now that we have tuned the model parameters and have an idea of model performance. We will fit on the entire training dataset so we have as much information as possible for the final test set prediction."
   ]
  },
  {
   "cell_type": "markdown",
   "metadata": {},
   "source": [
    "# <a id='7'>7. Model Predictions and Kaggle Submission</a>"
   ]
  },
  {
   "cell_type": "code",
   "execution_count": null,
   "metadata": {},
   "outputs": [],
   "source": [
    "# %%time\n",
    "# X_test.to_csv('X_test.csv', index=False)\n",
    "\n",
    "# %%time\n",
    "# X.to_csv('X.csv', index=False)\n",
    "\n",
    "# y_train.to_csv('y_train.csv', index=False)"
   ]
  },
  {
   "cell_type": "code",
   "execution_count": null,
   "metadata": {},
   "outputs": [],
   "source": [
    "%%time\n",
    "#obtention des prédictions et du fichier à évaluer \n",
    "\n",
    "y_test_predict_tree=reg.predict(new_test)\n"
   ]
  },
  {
   "cell_type": "code",
   "execution_count": null,
   "metadata": {},
   "outputs": [],
   "source": [
    "%%time\n",
    "my_submission = pd.DataFrame({'row_id': new_test.index, 'meter_reading': y_test_predict_tree})"
   ]
  },
  {
   "cell_type": "code",
   "execution_count": null,
   "metadata": {},
   "outputs": [],
   "source": [
    "%%time\n",
    "my_submission.to_csv('submission_tree_f7.csv', index=False)"
   ]
  },
  {
   "cell_type": "code",
   "execution_count": null,
   "metadata": {},
   "outputs": [],
   "source": []
  }
 ],
 "metadata": {
  "kernelspec": {
   "display_name": "Python 3",
   "language": "python",
   "name": "python3"
  },
  "language_info": {
   "codemirror_mode": {
    "name": "ipython",
    "version": 3
   },
   "file_extension": ".py",
   "mimetype": "text/x-python",
   "name": "python",
   "nbconvert_exporter": "python",
   "pygments_lexer": "ipython3",
   "version": "3.6.2"
  }
 },
 "nbformat": 4,
 "nbformat_minor": 4
}
